{
 "cells": [
  {
   "cell_type": "code",
   "execution_count": 9,
   "metadata": {},
   "outputs": [],
   "source": [
    "import numpy as np\n",
    "import pandas as pd\n",
    "import xlrd\n"
   ]
  },
  {
   "cell_type": "code",
   "execution_count": 10,
   "metadata": {},
   "outputs": [],
   "source": [
    "import matplotlib as plt\n",
    "import matplotlib.pyplot as plt\n",
    "import seaborn as sns"
   ]
  },
  {
   "cell_type": "code",
   "execution_count": 11,
   "metadata": {},
   "outputs": [],
   "source": [
    "import pandas as pd\n",
    "import pylab as pl\n",
    "import numpy as np\n",
    "import scipy.optimize as opt\n",
    "from sklearn import preprocessing\n",
    "%matplotlib inline \n",
    "import matplotlib.pyplot as plt"
   ]
  },
  {
   "cell_type": "code",
   "execution_count": null,
   "metadata": {},
   "outputs": [],
   "source": []
  },
  {
   "cell_type": "code",
   "execution_count": 12,
   "metadata": {},
   "outputs": [],
   "source": [
    "filepath= ('file:///C:/Users/NEW%20USER/Downloads/LOG%20REG%20FOR%20CATFISH%20(Autosaved).xlsx')"
   ]
  },
  {
   "cell_type": "code",
   "execution_count": null,
   "metadata": {},
   "outputs": [],
   "source": []
  },
  {
   "cell_type": "code",
   "execution_count": 13,
   "metadata": {},
   "outputs": [],
   "source": [
    "filepath= 'file:///C:/Users/NEW%20USER/Downloads/LOG%20REG%20FOR%20CATFISH%20(Autosaved).xlsx'\n",
    "df= pd.read_excel(filepath, sheet_name= 'Sheet3', skiprows= 1)"
   ]
  },
  {
   "cell_type": "code",
   "execution_count": 14,
   "metadata": {},
   "outputs": [
    {
     "data": {
      "text/plain": [
       "Index(['feed', 'Fish_meal', 'rockyprawn', 'Feather Meal', 'brewers_waste',\n",
       "       'soybean_mel', 'blood_meal', 'Lipid', 'maggot_meal', 'wheatbran',\n",
       "       'yellow_maize', 'groundnut_cake', 'CMC', 'Vitamin', 'Chromic',\n",
       "       'Minerals', 'Calcium', 'Cellulose', 'Tapioca', 'protein', 'fat', 'ash',\n",
       "       'crude_fibre', 'NFE', 'moisture', 'culture_period', 'fish_weight', 'WG',\n",
       "       'PER', 'FCR', 'SGR', 'FCR_churn'],\n",
       "      dtype='object')"
      ]
     },
     "execution_count": 14,
     "metadata": {},
     "output_type": "execute_result"
    }
   ],
   "source": [
    "df.columns"
   ]
  },
  {
   "cell_type": "code",
   "execution_count": 17,
   "metadata": {},
   "outputs": [],
   "source": [
    "df= df[['Fish_meal', 'rockyprawn', 'Feather Meal', 'brewers_waste',\n",
    "       'soybean_mel', 'blood_meal', 'Lipid', 'maggot_meal', 'wheatbran',\n",
    "       'yellow_maize', 'groundnut_cake', 'CMC', 'Vitamin', 'Chromic',\n",
    "       'Minerals', 'Calcium', 'Cellulose', 'Tapioca', 'protein', 'fat', 'ash',\n",
    "       'crude_fibre', 'NFE', 'moisture', 'culture_period', 'fish_weight', 'FCR_churn']]"
   ]
  },
  {
   "cell_type": "code",
   "execution_count": 18,
   "metadata": {},
   "outputs": [
    {
     "name": "stdout",
     "output_type": "stream",
     "text": [
      "<class 'pandas.core.frame.DataFrame'>\n",
      "RangeIndex: 24 entries, 0 to 23\n",
      "Data columns (total 27 columns):\n",
      " #   Column          Non-Null Count  Dtype  \n",
      "---  ------          --------------  -----  \n",
      " 0   Fish_meal       24 non-null     float64\n",
      " 1   rockyprawn      24 non-null     int64  \n",
      " 2   Feather Meal    24 non-null     float64\n",
      " 3   brewers_waste   24 non-null     float64\n",
      " 4   soybean_mel     24 non-null     float64\n",
      " 5   blood_meal      24 non-null     float64\n",
      " 6   Lipid           24 non-null     float64\n",
      " 7   maggot_meal     24 non-null     float64\n",
      " 8   wheatbran       24 non-null     float64\n",
      " 9   yellow_maize    24 non-null     float64\n",
      " 10  groundnut_cake  24 non-null     float64\n",
      " 11  CMC             24 non-null     float64\n",
      " 12  Vitamin         24 non-null     float64\n",
      " 13  Chromic         24 non-null     float64\n",
      " 14  Minerals        24 non-null     float64\n",
      " 15  Calcium         24 non-null     float64\n",
      " 16  Cellulose       24 non-null     float64\n",
      " 17  Tapioca         24 non-null     float64\n",
      " 18  protein         24 non-null     float64\n",
      " 19  fat             24 non-null     float64\n",
      " 20  ash             24 non-null     float64\n",
      " 21  crude_fibre     24 non-null     float64\n",
      " 22  NFE             24 non-null     float64\n",
      " 23  moisture        24 non-null     float64\n",
      " 24  culture_period  24 non-null     int64  \n",
      " 25  fish_weight     24 non-null     float64\n",
      " 26  FCR_churn       24 non-null     int64  \n",
      "dtypes: float64(24), int64(3)\n",
      "memory usage: 5.2 KB\n"
     ]
    }
   ],
   "source": [
    "df.columns.value_counts\n",
    "df.info()"
   ]
  },
  {
   "cell_type": "code",
   "execution_count": 19,
   "metadata": {},
   "outputs": [
    {
     "data": {
      "text/plain": [
       "RangeIndex(start=0, stop=24, step=1)"
      ]
     },
     "execution_count": 19,
     "metadata": {},
     "output_type": "execute_result"
    }
   ],
   "source": [
    "df.index"
   ]
  },
  {
   "cell_type": "code",
   "execution_count": 20,
   "metadata": {},
   "outputs": [
    {
     "data": {
      "text/plain": [
       "array([[56.5  ,  0.   ,  0.   ,  0.   ,  0.   ,  0.   ,  6.43 ,  0.   ,\n",
       "         0.   ,  0.   ,  0.   ,  2.36 ,  3.   ,  0.5  ,  4.   ,  1.   ,\n",
       "         5.34 , 28.25 , 39.82 , 11.45 , 86.55 ,  4.811, 25.85 ,  4.78 ,\n",
       "         4.   ,  2.85 ],\n",
       "       [45.32 ,  0.   ,  9.86 ,  0.   ,  0.   ,  0.   ,  7.54 ,  0.   ,\n",
       "         0.   ,  0.   ,  0.   ,  2.36 ,  3.   ,  0.5  ,  4.   ,  1.   ,\n",
       "         6.1  , 28.39 , 39.51 , 11.23 , 87.43 ,  4.811, 25.85 ,  5.12 ,\n",
       "         4.   ,  2.85 ],\n",
       "       [33.99 ,  0.   , 19.71 ,  0.   ,  0.   ,  0.   ,  8.63 ,  0.   ,\n",
       "         0.   ,  0.   ,  0.   ,  2.36 ,  3.   ,  0.5  ,  4.   ,  1.   ,\n",
       "         6.88 , 28.53 , 41.25 , 11.87 , 89.1  ,  4.811, 25.85 ,  5.03 ,\n",
       "         4.   ,  2.85 ],\n",
       "       [22.66 ,  0.   , 29.57 ,  0.   ,  0.   ,  0.   ,  9.73 ,  0.   ,\n",
       "         0.   ,  0.   ,  0.   ,  2.36 ,  3.   ,  0.5  ,  4.   ,  1.   ,\n",
       "         7.66 , 28.67 , 38.95 , 12.14 , 89.7  ,  4.811, 25.85 ,  5.89 ,\n",
       "         4.   ,  2.85 ],\n",
       "       [11.33 ,  0.   , 39.42 ,  0.   ,  0.   ,  0.   , 10.83 ,  0.   ,\n",
       "         0.   ,  0.   ,  0.   ,  2.36 ,  3.   ,  0.5  ,  4.   ,  1.   ,\n",
       "         8.43 , 28.81 , 40.34 , 11.5  , 90.7  ,  4.811, 25.85 ,  4.43 ,\n",
       "         4.   ,  2.85 ]])"
      ]
     },
     "execution_count": 20,
     "metadata": {},
     "output_type": "execute_result"
    }
   ],
   "source": [
    "X = np.asarray(df[['Fish_meal', 'rockyprawn', 'Feather Meal', 'brewers_waste',\n",
    "       'soybean_mel', 'blood_meal', 'Lipid', 'maggot_meal', 'wheatbran',\n",
    "       'yellow_maize', 'groundnut_cake', 'CMC', 'Vitamin', 'Chromic',\n",
    "       'Minerals', 'Calcium', 'Cellulose', 'Tapioca', 'protein', 'fat', 'ash',\n",
    "       'crude_fibre', 'NFE', 'moisture', 'culture_period', 'fish_weight']])\n",
    "X[0:5]"
   ]
  },
  {
   "cell_type": "code",
   "execution_count": 21,
   "metadata": {},
   "outputs": [],
   "source": [
    "y= np.asarray(df['FCR_churn'])"
   ]
  },
  {
   "cell_type": "code",
   "execution_count": 22,
   "metadata": {},
   "outputs": [],
   "source": [
    "from sklearn import preprocessing\n",
    "X = preprocessing.StandardScaler().fit(X).transform(X)\n",
    "X= pd.DataFrame(X)\n"
   ]
  },
  {
   "cell_type": "code",
   "execution_count": 23,
   "metadata": {},
   "outputs": [],
   "source": [
    "from sklearn.model_selection import train_test_split"
   ]
  },
  {
   "cell_type": "code",
   "execution_count": 24,
   "metadata": {},
   "outputs": [
    {
     "name": "stdout",
     "output_type": "stream",
     "text": [
      "Train set: (19, 26) (19,)\n",
      "Test set: (5, 26) (5,)\n"
     ]
    }
   ],
   "source": [
    "from sklearn.model_selection import train_test_split\n",
    "X_train, X_test, y_train, y_test = train_test_split( X, y, test_size=0.20, random_state=2)\n",
    "print ('Train set:', X_train.shape,  y_train.shape)\n",
    "print ('Test set:', X_test.shape,  y_test.shape)"
   ]
  },
  {
   "cell_type": "code",
   "execution_count": 25,
   "metadata": {},
   "outputs": [
    {
     "data": {
      "text/plain": [
       "LogisticRegression(C=0.01, class_weight=None, dual=False, fit_intercept=True,\n",
       "                   intercept_scaling=1, l1_ratio=None, max_iter=100,\n",
       "                   multi_class='auto', n_jobs=None, penalty='l2',\n",
       "                   random_state=None, solver='liblinear', tol=0.0001, verbose=0,\n",
       "                   warm_start=False)"
      ]
     },
     "execution_count": 25,
     "metadata": {},
     "output_type": "execute_result"
    }
   ],
   "source": [
    "from sklearn.linear_model import LogisticRegression\n",
    "from sklearn.metrics import confusion_matrix\n",
    "LR = LogisticRegression(C= 0.01, solver='liblinear').fit(X_train,y_train)\n",
    "LR"
   ]
  },
  {
   "cell_type": "code",
   "execution_count": 90,
   "metadata": {},
   "outputs": [],
   "source": [
    "import xlrd"
   ]
  },
  {
   "cell_type": "code",
   "execution_count": 91,
   "metadata": {},
   "outputs": [
    {
     "data": {
      "text/plain": [
       "array([0, 0, 0, 0, 1], dtype=int64)"
      ]
     },
     "execution_count": 91,
     "metadata": {},
     "output_type": "execute_result"
    }
   ],
   "source": [
    "yhat = LR.predict(X_test)\n",
    "yhat[0::]\n",
    "\n"
   ]
  },
  {
   "cell_type": "code",
   "execution_count": 92,
   "metadata": {},
   "outputs": [],
   "source": [
    "yhat_prob = LR.predict_proba(X_test)\n",
    "yhat_prob= pd.DataFrame(yhat_prob)\n",
    "yhat_prob.to_excel('log_catfish.xlsx', sheet_name= 'liblinar probability')"
   ]
  },
  {
   "cell_type": "code",
   "execution_count": 93,
   "metadata": {},
   "outputs": [
    {
     "name": "stderr",
     "output_type": "stream",
     "text": [
      "C:\\ProgramData\\Anaconda3\\lib\\site-packages\\sklearn\\metrics\\_classification.py:664: FutureWarning: jaccard_similarity_score has been deprecated and replaced with jaccard_score. It will be removed in version 0.23. This implementation has surprising behavior for binary and multiclass classification tasks.\n",
      "  FutureWarning)\n"
     ]
    },
    {
     "data": {
      "text/plain": [
       "0.8"
      ]
     },
     "execution_count": 93,
     "metadata": {},
     "output_type": "execute_result"
    }
   ],
   "source": [
    "from sklearn.metrics import jaccard_similarity_score\n",
    "jaccard_similarity_score(y_test, yhat)"
   ]
  },
  {
   "cell_type": "code",
   "execution_count": 94,
   "metadata": {},
   "outputs": [
    {
     "name": "stdout",
     "output_type": "stream",
     "text": [
      "[[1 1]\n",
      " [0 3]]\n"
     ]
    }
   ],
   "source": [
    "from sklearn.metrics import classification_report, confusion_matrix\n",
    "import itertools\n",
    "def plot_confusion_matrix(cm, classes,\n",
    "                          normalize=True,\n",
    "                          title='Confusion matrix',\n",
    "                          cmap=plt.cm.Blues):\n",
    "    \"\"\"\n",
    "    This function prints and plots the confusion matrix.\n",
    "    Normalization can be applied by setting `normalize=True`.\n",
    "    \"\"\"\n",
    "    if normalize:\n",
    "        cm = cm.astype('float') / cm.sum(axis=1)[:, np.newaxis]\n",
    "        print(\"Normalized confusion matrix\")\n",
    "    else:\n",
    "        print('Confusion matrix, without normalization')\n",
    "\n",
    "    print(cm)\n",
    "\n",
    "    plt.imshow(cm, interpolation='nearest', cmap=cmap)\n",
    "    plt.title(title)\n",
    "    plt.colorbar()\n",
    "    tick_marks = np.arange(len(classes))\n",
    "    plt.xticks(tick_marks, classes, rotation=45)\n",
    "    plt.yticks(tick_marks, classes)\n",
    "\n",
    "    fmt = '.2f' if normalize else 'd'\n",
    "    thresh = cm.max() / 2.\n",
    "    for i, j in itertools.product(range(cm.shape[0]), range(cm.shape[1])):\n",
    "        plt.text(j, i, format(cm[i, j], fmt),\n",
    "                 horizontalalignment=\"center\",\n",
    "                 color=\"white\" if cm[i, j] > thresh else \"black\")\n",
    "\n",
    "    plt.tight_layout()\n",
    "    plt.ylabel('True FCR')\n",
    "    plt.xlabel('Predicted FCR')\n",
    "print(confusion_matrix(y_test, yhat, labels=[1,0]))"
   ]
  },
  {
   "cell_type": "code",
   "execution_count": 95,
   "metadata": {},
   "outputs": [
    {
     "name": "stdout",
     "output_type": "stream",
     "text": [
      "Confusion matrix, without normalization\n",
      "[[1 1]\n",
      " [0 3]]\n"
     ]
    },
    {
     "data": {
      "image/png": "[encoded data removed]",
      "text/plain": [
       "<Figure size 432x288 with 2 Axes>"
      ]
     },
     "metadata": {
      "needs_background": "light"
     },
     "output_type": "display_data"
    }
   ],
   "source": [
    "# Compute confusion matrix\n",
    "cnf_matrix = confusion_matrix(y_test, yhat, labels=[1,0])\n",
    "np.set_printoptions(precision=2)\n",
    "\n",
    "\n",
    "# Plot non-normalized confusion matrix\n",
    "plt.figure()\n",
    "plot_confusion_matrix(cnf_matrix, classes=['churn=1','churn=0'],normalize= False,  title='Liblinear Confusion matrix')"
   ]
  },
  {
   "cell_type": "code",
   "execution_count": 96,
   "metadata": {},
   "outputs": [
    {
     "name": "stdout",
     "output_type": "stream",
     "text": [
      "              precision    recall  f1-score   support\n",
      "\n",
      "           0       0.75      1.00      0.86         3\n",
      "           1       1.00      0.50      0.67         2\n",
      "\n",
      "    accuracy                           0.80         5\n",
      "   macro avg       0.88      0.75      0.76         5\n",
      "weighted avg       0.85      0.80      0.78         5\n",
      "\n"
     ]
    }
   ],
   "source": [
    "print (classification_report(y_test, yhat))"
   ]
  },
  {
   "cell_type": "code",
   "execution_count": 97,
   "metadata": {},
   "outputs": [
    {
     "data": {
      "text/plain": [
       "0.6773433078904977"
      ]
     },
     "execution_count": 97,
     "metadata": {},
     "output_type": "execute_result"
    }
   ],
   "source": [
    "from sklearn.metrics import log_loss\n",
    "log_loss(y_test, yhat_prob)"
   ]
  },
  {
   "cell_type": "code",
   "execution_count": 98,
   "metadata": {},
   "outputs": [
    {
     "data": {
      "text/plain": [
       "LogisticRegression(C=0.01, class_weight=None, dual=False, fit_intercept=True,\n",
       "                   intercept_scaling=1, l1_ratio=None, max_iter=100,\n",
       "                   multi_class='auto', n_jobs=None, penalty='l2',\n",
       "                   random_state=None, solver='newton-cg', tol=0.0001, verbose=0,\n",
       "                   warm_start=False)"
      ]
     },
     "execution_count": 98,
     "metadata": {},
     "output_type": "execute_result"
    }
   ],
   "source": [
    "# write your code here\n",
    "from sklearn.linear_model import LogisticRegression\n",
    "from sklearn.metrics import confusion_matrix\n",
    "LR = LogisticRegression(C=0.01, solver='newton-cg').fit(X_train,y_train)\n",
    "LR\n"
   ]
  },
  {
   "cell_type": "code",
   "execution_count": 99,
   "metadata": {},
   "outputs": [
    {
     "data": {
      "text/plain": [
       "array([[0.59, 0.41],\n",
       "       [0.64, 0.36],\n",
       "       [0.6 , 0.4 ],\n",
       "       [0.6 , 0.4 ],\n",
       "       [0.51, 0.49]])"
      ]
     },
     "execution_count": 99,
     "metadata": {},
     "output_type": "execute_result"
    }
   ],
   "source": [
    "yhat_prob = LR.predict_proba(X_test)\n",
    "yhat_prob\n",
    "\n"
   ]
  },
  {
   "cell_type": "code",
   "execution_count": 100,
   "metadata": {},
   "outputs": [
    {
     "name": "stderr",
     "output_type": "stream",
     "text": [
      "C:\\ProgramData\\Anaconda3\\lib\\site-packages\\sklearn\\metrics\\_classification.py:664: FutureWarning: jaccard_similarity_score has been deprecated and replaced with jaccard_score. It will be removed in version 0.23. This implementation has surprising behavior for binary and multiclass classification tasks.\n",
      "  FutureWarning)\n"
     ]
    },
    {
     "data": {
      "text/plain": [
       "0.8"
      ]
     },
     "execution_count": 100,
     "metadata": {},
     "output_type": "execute_result"
    }
   ],
   "source": [
    "jaccard_similarity_score(y_test, yhat)"
   ]
  },
  {
   "cell_type": "code",
   "execution_count": 101,
   "metadata": {},
   "outputs": [
    {
     "name": "stdout",
     "output_type": "stream",
     "text": [
      "Confusion matrix, without normalization\n",
      "[[1 1]\n",
      " [0 3]]\n"
     ]
    },
    {
     "data": {
      "image/png": "[encoded data removed]",
      "text/plain": [
       "<Figure size 432x288 with 2 Axes>"
      ]
     },
     "metadata": {
      "needs_background": "light"
     },
     "output_type": "display_data"
    }
   ],
   "source": [
    "cnf_matrix = confusion_matrix(y_test, yhat, labels=[1,0])\n",
    "np.set_printoptions(precision=2)\n",
    "\n",
    "\n",
    "# Plot non-normalized confusion matrix\n",
    "plt.figure()\n",
    "plot_confusion_matrix(cnf_matrix, classes=['churn=1','churn=0'],normalize= False,  title='Newton-CG Confusion matrix')"
   ]
  },
  {
   "cell_type": "code",
   "execution_count": 102,
   "metadata": {},
   "outputs": [
    {
     "name": "stdout",
     "output_type": "stream",
     "text": [
      "              precision    recall  f1-score   support\n",
      "\n",
      "           0       0.75      1.00      0.86         3\n",
      "           1       1.00      0.50      0.67         2\n",
      "\n",
      "    accuracy                           0.80         5\n",
      "   macro avg       0.88      0.75      0.76         5\n",
      "weighted avg       0.85      0.80      0.78         5\n",
      "\n"
     ]
    }
   ],
   "source": [
    "print (classification_report(y_test, yhat))"
   ]
  },
  {
   "cell_type": "code",
   "execution_count": 103,
   "metadata": {},
   "outputs": [
    {
     "data": {
      "text/plain": [
       "0.6587305564466072"
      ]
     },
     "execution_count": 103,
     "metadata": {},
     "output_type": "execute_result"
    }
   ],
   "source": [
    "from sklearn.metrics import log_loss\n",
    "log_loss(y_test, yhat_prob)"
   ]
  },
  {
   "cell_type": "code",
   "execution_count": null,
   "metadata": {},
   "outputs": [],
   "source": []
  },
  {
   "cell_type": "code",
   "execution_count": 104,
   "metadata": {},
   "outputs": [
    {
     "data": {
      "text/plain": [
       "array([0, 0, 0, 0, 0], dtype=int64)"
      ]
     },
     "execution_count": 104,
     "metadata": {},
     "output_type": "execute_result"
    }
   ],
   "source": [
    "from sklearn.linear_model import LogisticRegression\n",
    "from sklearn.metrics import confusion_matrix\n",
    "LR = LogisticRegression(C=0.01\n",
    "                        , solver='sag').fit(X_train,y_train)\n",
    "LR\n",
    "yhat = LR.predict(X_test)\n",
    "yhat"
   ]
  },
  {
   "cell_type": "code",
   "execution_count": 105,
   "metadata": {},
   "outputs": [
    {
     "data": {
      "text/plain": [
       "array([[0.59, 0.41],\n",
       "       [0.64, 0.36],\n",
       "       [0.6 , 0.4 ],\n",
       "       [0.61, 0.39],\n",
       "       [0.51, 0.49]])"
      ]
     },
     "execution_count": 105,
     "metadata": {},
     "output_type": "execute_result"
    }
   ],
   "source": [
    "yhat_prob = LR.predict_proba(X_test)\n",
    "yhat_prob"
   ]
  },
  {
   "cell_type": "code",
   "execution_count": 106,
   "metadata": {},
   "outputs": [
    {
     "name": "stderr",
     "output_type": "stream",
     "text": [
      "C:\\ProgramData\\Anaconda3\\lib\\site-packages\\sklearn\\metrics\\_classification.py:664: FutureWarning: jaccard_similarity_score has been deprecated and replaced with jaccard_score. It will be removed in version 0.23. This implementation has surprising behavior for binary and multiclass classification tasks.\n",
      "  FutureWarning)\n"
     ]
    },
    {
     "data": {
      "text/plain": [
       "0.6"
      ]
     },
     "execution_count": 106,
     "metadata": {},
     "output_type": "execute_result"
    }
   ],
   "source": [
    "jaccard_similarity_score(y_test, yhat)"
   ]
  },
  {
   "cell_type": "code",
   "execution_count": 107,
   "metadata": {},
   "outputs": [
    {
     "name": "stdout",
     "output_type": "stream",
     "text": [
      "Confusion matrix, without normalization\n",
      "[[0 2]\n",
      " [0 3]]\n"
     ]
    },
    {
     "data": {
      "image/png": "[encoded data removed]",
      "text/plain": [
       "<Figure size 432x288 with 2 Axes>"
      ]
     },
     "metadata": {
      "needs_background": "light"
     },
     "output_type": "display_data"
    }
   ],
   "source": [
    "cnf_matrix = confusion_matrix(y_test, yhat, labels=[1,0])\n",
    "np.set_printoptions(precision=2)\n",
    "\n",
    "\n",
    "# Plot non-normalized confusion matrix\n",
    "plt.figure()\n",
    "plot_confusion_matrix(cnf_matrix, classes=['churn=1','churn=0'],normalize= False,  title='SAG Confusion matrix')"
   ]
  },
  {
   "cell_type": "code",
   "execution_count": 108,
   "metadata": {},
   "outputs": [
    {
     "name": "stdout",
     "output_type": "stream",
     "text": [
      "              precision    recall  f1-score   support\n",
      "\n",
      "           0       0.60      1.00      0.75         3\n",
      "           1       0.00      0.00      0.00         2\n",
      "\n",
      "    accuracy                           0.60         5\n",
      "   macro avg       0.30      0.50      0.37         5\n",
      "weighted avg       0.36      0.60      0.45         5\n",
      "\n"
     ]
    },
    {
     "name": "stderr",
     "output_type": "stream",
     "text": [
      "C:\\ProgramData\\Anaconda3\\lib\\site-packages\\sklearn\\metrics\\_classification.py:1272: UndefinedMetricWarning: Precision and F-score are ill-defined and being set to 0.0 in labels with no predicted samples. Use `zero_division` parameter to control this behavior.\n",
      "  _warn_prf(average, modifier, msg_start, len(result))\n"
     ]
    }
   ],
   "source": [
    "print (classification_report(y_test, yhat))"
   ]
  },
  {
   "cell_type": "code",
   "execution_count": 109,
   "metadata": {},
   "outputs": [
    {
     "data": {
      "text/plain": [
       "0.6587065848937785"
      ]
     },
     "execution_count": 109,
     "metadata": {},
     "output_type": "execute_result"
    }
   ],
   "source": [
    "from sklearn.metrics import log_loss\n",
    "log_loss(y_test, yhat_prob)"
   ]
  },
  {
   "cell_type": "code",
   "execution_count": 39,
   "metadata": {},
   "outputs": [
    {
     "data": {
      "text/plain": [
       "0     56.50\n",
       "1     45.32\n",
       "2     33.99\n",
       "3     22.66\n",
       "4     11.33\n",
       "5      0.00\n",
       "6     31.73\n",
       "7     22.77\n",
       "8     31.89\n",
       "9     17.76\n",
       "10    14.55\n",
       "11    25.00\n",
       "12    12.50\n",
       "13     0.00\n",
       "14    13.63\n",
       "15    13.30\n",
       "16    13.30\n",
       "17    13.00\n",
       "18    13.00\n",
       "19    62.00\n",
       "20    47.00\n",
       "21    31.00\n",
       "22    15.00\n",
       "23     0.00\n",
       "Name: Fish_meal, dtype: float64"
      ]
     },
     "execution_count": 39,
     "metadata": {},
     "output_type": "execute_result"
    }
   ],
   "source": [
    "df['Fish_meal']"
   ]
  },
  {
   "cell_type": "code",
   "execution_count": 54,
   "metadata": {},
   "outputs": [
    {
     "ename": "AttributeError",
     "evalue": "'DataFrame' object has no attribute 'value_column'",
     "output_type": "error",
     "traceback": [
      "\u001b[1;31m---------------------------------------------------------------------------\u001b[0m",
      "\u001b[1;31mAttributeError\u001b[0m                            Traceback (most recent call last)",
      "\u001b[1;32m<ipython-input-54-c46071c897e8>\u001b[0m in \u001b[0;36m<module>\u001b[1;34m\u001b[0m\n\u001b[1;32m----> 1\u001b[1;33m \u001b[0marray\u001b[0m\u001b[1;33m=\u001b[0m \u001b[0mdf\u001b[0m\u001b[1;33m.\u001b[0m\u001b[0mvalue_column\u001b[0m\u001b[1;33m.\u001b[0m\u001b[0mvalues\u001b[0m\u001b[1;33m\u001b[0m\u001b[1;33m\u001b[0m\u001b[0m\n\u001b[0m",
      "\u001b[1;32mC:\\ProgramData\\Anaconda3\\lib\\site-packages\\pandas\\core\\generic.py\u001b[0m in \u001b[0;36m__getattr__\u001b[1;34m(self, name)\u001b[0m\n\u001b[0;32m   5272\u001b[0m             \u001b[1;32mif\u001b[0m \u001b[0mself\u001b[0m\u001b[1;33m.\u001b[0m\u001b[0m_info_axis\u001b[0m\u001b[1;33m.\u001b[0m\u001b[0m_can_hold_identifiers_and_holds_name\u001b[0m\u001b[1;33m(\u001b[0m\u001b[0mname\u001b[0m\u001b[1;33m)\u001b[0m\u001b[1;33m:\u001b[0m\u001b[1;33m\u001b[0m\u001b[1;33m\u001b[0m\u001b[0m\n\u001b[0;32m   5273\u001b[0m                 \u001b[1;32mreturn\u001b[0m \u001b[0mself\u001b[0m\u001b[1;33m[\u001b[0m\u001b[0mname\u001b[0m\u001b[1;33m]\u001b[0m\u001b[1;33m\u001b[0m\u001b[1;33m\u001b[0m\u001b[0m\n\u001b[1;32m-> 5274\u001b[1;33m             \u001b[1;32mreturn\u001b[0m \u001b[0mobject\u001b[0m\u001b[1;33m.\u001b[0m\u001b[0m__getattribute__\u001b[0m\u001b[1;33m(\u001b[0m\u001b[0mself\u001b[0m\u001b[1;33m,\u001b[0m \u001b[0mname\u001b[0m\u001b[1;33m)\u001b[0m\u001b[1;33m\u001b[0m\u001b[1;33m\u001b[0m\u001b[0m\n\u001b[0m\u001b[0;32m   5275\u001b[0m \u001b[1;33m\u001b[0m\u001b[0m\n\u001b[0;32m   5276\u001b[0m     \u001b[1;32mdef\u001b[0m \u001b[0m__setattr__\u001b[0m\u001b[1;33m(\u001b[0m\u001b[0mself\u001b[0m\u001b[1;33m,\u001b[0m \u001b[0mname\u001b[0m\u001b[1;33m:\u001b[0m \u001b[0mstr\u001b[0m\u001b[1;33m,\u001b[0m \u001b[0mvalue\u001b[0m\u001b[1;33m)\u001b[0m \u001b[1;33m->\u001b[0m \u001b[1;32mNone\u001b[0m\u001b[1;33m:\u001b[0m\u001b[1;33m\u001b[0m\u001b[1;33m\u001b[0m\u001b[0m\n",
      "\u001b[1;31mAttributeError\u001b[0m: 'DataFrame' object has no attribute 'value_column'"
     ]
    }
   ],
   "source": []
  },
  {
   "cell_type": "code",
   "execution_count": 40,
   "metadata": {},
   "outputs": [],
   "source": [
    "df= df[['percentage_inclusion',\n",
    "       'culture_period', 'fish_weight', 'moisture', 'crude_fibre', 'NFE',\n",
    "       'protein', 'Fat', 'ash_content', 'WG', 'FCR', 'SGR', 'PER']]"
   ]
  },
  {
   "cell_type": "code",
   "execution_count": 42,
   "metadata": {},
   "outputs": [],
   "source": [
    "\n",
    "X = df[['percentage_inclusion','culture_period', 'fish_weight', 'moisture', 'crude_fibre', 'NFE','protein', 'Fat','ash_content']]\n",
    "X= np.asanarray\n",
    "Y = df[['FCR']]\n",
    "\n",
    "validation_size = 0.20\n",
    "seed = 7\n",
    "X_train, X_validation, Y_train, Y_validation = train_test_split(X, Y,\n",
    "test_size=validation_size, random_state=seed)"
   ]
  },
  {
   "cell_type": "code",
   "execution_count": null,
   "metadata": {},
   "outputs": [],
   "source": []
  },
  {
   "cell_type": "raw",
   "metadata": {},
   "source": []
  },
  {
   "cell_type": "code",
   "execution_count": null,
   "metadata": {},
   "outputs": [],
   "source": []
  },
  {
   "cell_type": "code",
   "execution_count": 43,
   "metadata": {},
   "outputs": [],
   "source": [
    "from sklearn.linear_model import LogisticRegression"
   ]
  },
  {
   "cell_type": "code",
   "execution_count": 44,
   "metadata": {},
   "outputs": [],
   "source": [
    "from sklearn.discriminant_analysis import LinearDiscriminantAnalysis\n",
    "from sklearn.neighbors import KNeighborsClassifier\n",
    "from sklearn.tree import DecisionTreeClassifier\n",
    "from sklearn.naive_bayes import GaussianNB\n",
    "from sklearn.svm import SVC\n",
    "from sklearn.model_selection import cross_val_score\n",
    "from sklearn.model_selection import KFold"
   ]
  },
  {
   "cell_type": "code",
   "execution_count": 45,
   "metadata": {},
   "outputs": [
    {
     "name": "stderr",
     "output_type": "stream",
     "text": [
      "C:\\ProgramData\\Anaconda3\\lib\\site-packages\\sklearn\\model_selection\\_split.py:296: FutureWarning: Setting a random_state has no effect since shuffle is False. This will raise an error in 0.24. You should leave random_state to its default (None), or set shuffle=True.\n",
      "  FutureWarning\n",
      "C:\\ProgramData\\Anaconda3\\lib\\site-packages\\sklearn\\utils\\validation.py:760: DataConversionWarning: A column-vector y was passed when a 1d array was expected. Please change the shape of y to (n_samples, ), for example using ravel().\n",
      "  y = column_or_1d(y, warn=True)\n",
      "C:\\ProgramData\\Anaconda3\\lib\\site-packages\\sklearn\\model_selection\\_validation.py:536: FitFailedWarning: Estimator fit failed. The score on this train-test partition for these parameters will be set to nan. Details: \n",
      "ValueError: Unknown label type: 'continuous'\n",
      "\n",
      "  FitFailedWarning)\n",
      "C:\\ProgramData\\Anaconda3\\lib\\site-packages\\sklearn\\utils\\validation.py:760: DataConversionWarning: A column-vector y was passed when a 1d array was expected. Please change the shape of y to (n_samples, ), for example using ravel().\n",
      "  y = column_or_1d(y, warn=True)\n",
      "C:\\ProgramData\\Anaconda3\\lib\\site-packages\\sklearn\\model_selection\\_validation.py:536: FitFailedWarning: Estimator fit failed. The score on this train-test partition for these parameters will be set to nan. Details: \n",
      "ValueError: Unknown label type: 'continuous'\n",
      "\n",
      "  FitFailedWarning)\n",
      "C:\\ProgramData\\Anaconda3\\lib\\site-packages\\sklearn\\utils\\validation.py:760: DataConversionWarning: A column-vector y was passed when a 1d array was expected. Please change the shape of y to (n_samples, ), for example using ravel().\n",
      "  y = column_or_1d(y, warn=True)\n",
      "C:\\ProgramData\\Anaconda3\\lib\\site-packages\\sklearn\\model_selection\\_validation.py:536: FitFailedWarning: Estimator fit failed. The score on this train-test partition for these parameters will be set to nan. Details: \n",
      "ValueError: Unknown label type: 'continuous'\n",
      "\n",
      "  FitFailedWarning)\n",
      "C:\\ProgramData\\Anaconda3\\lib\\site-packages\\sklearn\\utils\\validation.py:760: DataConversionWarning: A column-vector y was passed when a 1d array was expected. Please change the shape of y to (n_samples, ), for example using ravel().\n",
      "  y = column_or_1d(y, warn=True)\n",
      "C:\\ProgramData\\Anaconda3\\lib\\site-packages\\sklearn\\model_selection\\_validation.py:536: FitFailedWarning: Estimator fit failed. The score on this train-test partition for these parameters will be set to nan. Details: \n",
      "ValueError: Unknown label type: 'continuous'\n",
      "\n",
      "  FitFailedWarning)\n",
      "C:\\ProgramData\\Anaconda3\\lib\\site-packages\\sklearn\\utils\\validation.py:760: DataConversionWarning: A column-vector y was passed when a 1d array was expected. Please change the shape of y to (n_samples, ), for example using ravel().\n",
      "  y = column_or_1d(y, warn=True)\n",
      "C:\\ProgramData\\Anaconda3\\lib\\site-packages\\sklearn\\model_selection\\_validation.py:536: FitFailedWarning: Estimator fit failed. The score on this train-test partition for these parameters will be set to nan. Details: \n",
      "ValueError: Unknown label type: 'continuous'\n",
      "\n",
      "  FitFailedWarning)\n",
      "C:\\ProgramData\\Anaconda3\\lib\\site-packages\\sklearn\\utils\\validation.py:760: DataConversionWarning: A column-vector y was passed when a 1d array was expected. Please change the shape of y to (n_samples, ), for example using ravel().\n",
      "  y = column_or_1d(y, warn=True)\n",
      "C:\\ProgramData\\Anaconda3\\lib\\site-packages\\sklearn\\model_selection\\_validation.py:536: FitFailedWarning: Estimator fit failed. The score on this train-test partition for these parameters will be set to nan. Details: \n",
      "ValueError: Unknown label type: 'continuous'\n",
      "\n",
      "  FitFailedWarning)\n",
      "C:\\ProgramData\\Anaconda3\\lib\\site-packages\\sklearn\\utils\\validation.py:760: DataConversionWarning: A column-vector y was passed when a 1d array was expected. Please change the shape of y to (n_samples, ), for example using ravel().\n",
      "  y = column_or_1d(y, warn=True)\n",
      "C:\\ProgramData\\Anaconda3\\lib\\site-packages\\sklearn\\model_selection\\_validation.py:536: FitFailedWarning: Estimator fit failed. The score on this train-test partition for these parameters will be set to nan. Details: \n",
      "ValueError: Unknown label type: 'continuous'\n",
      "\n",
      "  FitFailedWarning)\n",
      "C:\\ProgramData\\Anaconda3\\lib\\site-packages\\sklearn\\utils\\validation.py:760: DataConversionWarning: A column-vector y was passed when a 1d array was expected. Please change the shape of y to (n_samples, ), for example using ravel().\n",
      "  y = column_or_1d(y, warn=True)\n",
      "C:\\ProgramData\\Anaconda3\\lib\\site-packages\\sklearn\\model_selection\\_validation.py:536: FitFailedWarning: Estimator fit failed. The score on this train-test partition for these parameters will be set to nan. Details: \n",
      "ValueError: Unknown label type: 'continuous'\n",
      "\n",
      "  FitFailedWarning)\n",
      "C:\\ProgramData\\Anaconda3\\lib\\site-packages\\sklearn\\utils\\validation.py:760: DataConversionWarning: A column-vector y was passed when a 1d array was expected. Please change the shape of y to (n_samples, ), for example using ravel().\n",
      "  y = column_or_1d(y, warn=True)\n",
      "C:\\ProgramData\\Anaconda3\\lib\\site-packages\\sklearn\\model_selection\\_validation.py:536: FitFailedWarning: Estimator fit failed. The score on this train-test partition for these parameters will be set to nan. Details: \n",
      "ValueError: Unknown label type: 'continuous'\n",
      "\n",
      "  FitFailedWarning)\n",
      "C:\\ProgramData\\Anaconda3\\lib\\site-packages\\sklearn\\utils\\validation.py:760: DataConversionWarning: A column-vector y was passed when a 1d array was expected. Please change the shape of y to (n_samples, ), for example using ravel().\n",
      "  y = column_or_1d(y, warn=True)\n",
      "C:\\ProgramData\\Anaconda3\\lib\\site-packages\\sklearn\\model_selection\\_validation.py:536: FitFailedWarning: Estimator fit failed. The score on this train-test partition for these parameters will be set to nan. Details: \n",
      "ValueError: Unknown label type: 'continuous'\n",
      "\n",
      "  FitFailedWarning)\n",
      "C:\\ProgramData\\Anaconda3\\lib\\site-packages\\sklearn\\model_selection\\_split.py:296: FutureWarning: Setting a random_state has no effect since shuffle is False. This will raise an error in 0.24. You should leave random_state to its default (None), or set shuffle=True.\n",
      "  FutureWarning\n",
      "C:\\ProgramData\\Anaconda3\\lib\\site-packages\\sklearn\\utils\\validation.py:760: DataConversionWarning: A column-vector y was passed when a 1d array was expected. Please change the shape of y to (n_samples, ), for example using ravel().\n",
      "  y = column_or_1d(y, warn=True)\n",
      "C:\\ProgramData\\Anaconda3\\lib\\site-packages\\sklearn\\model_selection\\_validation.py:536: FitFailedWarning: Estimator fit failed. The score on this train-test partition for these parameters will be set to nan. Details: \n",
      "ValueError: Unknown label type: (array([0.7 , 1.17, 1.24, 2.3 , 5.07, 2.33, 0.68, 2.62, 3.13, 0.62, 3.57,\n",
      "       0.65, 3.96, 2.33, 3.08, 2.85, 0.68]),)\n",
      "\n",
      "  FitFailedWarning)\n",
      "C:\\ProgramData\\Anaconda3\\lib\\site-packages\\sklearn\\utils\\validation.py:760: DataConversionWarning: A column-vector y was passed when a 1d array was expected. Please change the shape of y to (n_samples, ), for example using ravel().\n",
      "  y = column_or_1d(y, warn=True)\n",
      "C:\\ProgramData\\Anaconda3\\lib\\site-packages\\sklearn\\model_selection\\_validation.py:536: FitFailedWarning: Estimator fit failed. The score on this train-test partition for these parameters will be set to nan. Details: \n",
      "ValueError: Unknown label type: (array([2.16, 4.16, 1.24, 2.3 , 5.07, 2.33, 0.68, 2.62, 3.13, 0.62, 3.57,\n",
      "       0.65, 3.96, 2.33, 3.08, 2.85, 0.68]),)\n",
      "\n",
      "  FitFailedWarning)\n",
      "C:\\ProgramData\\Anaconda3\\lib\\site-packages\\sklearn\\utils\\validation.py:760: DataConversionWarning: A column-vector y was passed when a 1d array was expected. Please change the shape of y to (n_samples, ), for example using ravel().\n",
      "  y = column_or_1d(y, warn=True)\n",
      "C:\\ProgramData\\Anaconda3\\lib\\site-packages\\sklearn\\model_selection\\_validation.py:536: FitFailedWarning: Estimator fit failed. The score on this train-test partition for these parameters will be set to nan. Details: \n",
      "ValueError: Unknown label type: (array([2.16, 4.16, 0.7 , 1.17, 5.07, 2.33, 0.68, 2.62, 3.13, 0.62, 3.57,\n",
      "       0.65, 3.96, 2.33, 3.08, 2.85, 0.68]),)\n",
      "\n",
      "  FitFailedWarning)\n"
     ]
    },
    {
     "name": "stdout",
     "output_type": "stream",
     "text": [
      "LR: nan (nan)\n",
      "LDA: nan (nan)\n"
     ]
    },
    {
     "name": "stderr",
     "output_type": "stream",
     "text": [
      "C:\\ProgramData\\Anaconda3\\lib\\site-packages\\sklearn\\utils\\validation.py:760: DataConversionWarning: A column-vector y was passed when a 1d array was expected. Please change the shape of y to (n_samples, ), for example using ravel().\n",
      "  y = column_or_1d(y, warn=True)\n",
      "C:\\ProgramData\\Anaconda3\\lib\\site-packages\\sklearn\\model_selection\\_validation.py:536: FitFailedWarning: Estimator fit failed. The score on this train-test partition for these parameters will be set to nan. Details: \n",
      "ValueError: Unknown label type: (array([2.16, 4.16, 0.7 , 1.17, 1.24, 2.3 , 0.68, 2.62, 3.13, 0.62, 3.57,\n",
      "       0.65, 3.96, 2.33, 3.08, 2.85, 0.68]),)\n",
      "\n",
      "  FitFailedWarning)\n",
      "C:\\ProgramData\\Anaconda3\\lib\\site-packages\\sklearn\\utils\\validation.py:760: DataConversionWarning: A column-vector y was passed when a 1d array was expected. Please change the shape of y to (n_samples, ), for example using ravel().\n",
      "  y = column_or_1d(y, warn=True)\n",
      "C:\\ProgramData\\Anaconda3\\lib\\site-packages\\sklearn\\model_selection\\_validation.py:536: FitFailedWarning: Estimator fit failed. The score on this train-test partition for these parameters will be set to nan. Details: \n",
      "ValueError: Unknown label type: (array([2.16, 4.16, 0.7 , 1.17, 1.24, 2.3 , 5.07, 2.33, 3.13, 0.62, 3.57,\n",
      "       0.65, 3.96, 2.33, 3.08, 2.85, 0.68]),)\n",
      "\n",
      "  FitFailedWarning)\n",
      "C:\\ProgramData\\Anaconda3\\lib\\site-packages\\sklearn\\utils\\validation.py:760: DataConversionWarning: A column-vector y was passed when a 1d array was expected. Please change the shape of y to (n_samples, ), for example using ravel().\n",
      "  y = column_or_1d(y, warn=True)\n",
      "C:\\ProgramData\\Anaconda3\\lib\\site-packages\\sklearn\\model_selection\\_validation.py:536: FitFailedWarning: Estimator fit failed. The score on this train-test partition for these parameters will be set to nan. Details: \n",
      "ValueError: Unknown label type: (array([2.16, 4.16, 0.7 , 1.17, 1.24, 2.3 , 5.07, 2.33, 0.68, 2.62, 3.57,\n",
      "       0.65, 3.96, 2.33, 3.08, 2.85, 0.68]),)\n",
      "\n",
      "  FitFailedWarning)\n",
      "C:\\ProgramData\\Anaconda3\\lib\\site-packages\\sklearn\\utils\\validation.py:760: DataConversionWarning: A column-vector y was passed when a 1d array was expected. Please change the shape of y to (n_samples, ), for example using ravel().\n",
      "  y = column_or_1d(y, warn=True)\n",
      "C:\\ProgramData\\Anaconda3\\lib\\site-packages\\sklearn\\model_selection\\_validation.py:536: FitFailedWarning: Estimator fit failed. The score on this train-test partition for these parameters will be set to nan. Details: \n",
      "ValueError: Unknown label type: (array([2.16, 4.16, 0.7 , 1.17, 1.24, 2.3 , 5.07, 2.33, 0.68, 2.62, 3.13,\n",
      "       0.62, 3.96, 2.33, 3.08, 2.85, 0.68]),)\n",
      "\n",
      "  FitFailedWarning)\n",
      "C:\\ProgramData\\Anaconda3\\lib\\site-packages\\sklearn\\utils\\validation.py:760: DataConversionWarning: A column-vector y was passed when a 1d array was expected. Please change the shape of y to (n_samples, ), for example using ravel().\n",
      "  y = column_or_1d(y, warn=True)\n",
      "C:\\ProgramData\\Anaconda3\\lib\\site-packages\\sklearn\\model_selection\\_validation.py:536: FitFailedWarning: Estimator fit failed. The score on this train-test partition for these parameters will be set to nan. Details: \n",
      "ValueError: Unknown label type: (array([2.16, 4.16, 0.7 , 1.17, 1.24, 2.3 , 5.07, 2.33, 0.68, 2.62, 3.13,\n",
      "       0.62, 3.57, 0.65, 3.08, 2.85, 0.68]),)\n",
      "\n",
      "  FitFailedWarning)\n",
      "C:\\ProgramData\\Anaconda3\\lib\\site-packages\\sklearn\\utils\\validation.py:760: DataConversionWarning: A column-vector y was passed when a 1d array was expected. Please change the shape of y to (n_samples, ), for example using ravel().\n",
      "  y = column_or_1d(y, warn=True)\n",
      "C:\\ProgramData\\Anaconda3\\lib\\site-packages\\sklearn\\model_selection\\_validation.py:536: FitFailedWarning: Estimator fit failed. The score on this train-test partition for these parameters will be set to nan. Details: \n",
      "ValueError: Unknown label type: (array([2.16, 4.16, 0.7 , 1.17, 1.24, 2.3 , 5.07, 2.33, 0.68, 2.62, 3.13,\n",
      "       0.62, 3.57, 0.65, 3.96, 2.33, 0.68]),)\n",
      "\n",
      "  FitFailedWarning)\n",
      "C:\\ProgramData\\Anaconda3\\lib\\site-packages\\sklearn\\utils\\validation.py:760: DataConversionWarning: A column-vector y was passed when a 1d array was expected. Please change the shape of y to (n_samples, ), for example using ravel().\n",
      "  y = column_or_1d(y, warn=True)\n",
      "C:\\ProgramData\\Anaconda3\\lib\\site-packages\\sklearn\\model_selection\\_validation.py:536: FitFailedWarning: Estimator fit failed. The score on this train-test partition for these parameters will be set to nan. Details: \n",
      "ValueError: Unknown label type: (array([2.16, 4.16, 0.7 , 1.17, 1.24, 2.3 , 5.07, 2.33, 0.68, 2.62, 3.13,\n",
      "       0.62, 3.57, 0.65, 3.96, 2.33, 3.08, 2.85]),)\n",
      "\n",
      "  FitFailedWarning)\n",
      "C:\\ProgramData\\Anaconda3\\lib\\site-packages\\sklearn\\model_selection\\_split.py:296: FutureWarning: Setting a random_state has no effect since shuffle is False. This will raise an error in 0.24. You should leave random_state to its default (None), or set shuffle=True.\n",
      "  FutureWarning\n",
      "C:\\ProgramData\\Anaconda3\\lib\\site-packages\\sklearn\\model_selection\\_validation.py:515: DataConversionWarning: A column-vector y was passed when a 1d array was expected. Please change the shape of y to (n_samples, ), for example using ravel().\n",
      "  estimator.fit(X_train, y_train, **fit_params)\n",
      "C:\\ProgramData\\Anaconda3\\lib\\site-packages\\sklearn\\model_selection\\_validation.py:536: FitFailedWarning: Estimator fit failed. The score on this train-test partition for these parameters will be set to nan. Details: \n",
      "ValueError: Unknown label type: 'continuous'\n",
      "\n",
      "  FitFailedWarning)\n",
      "C:\\ProgramData\\Anaconda3\\lib\\site-packages\\sklearn\\model_selection\\_validation.py:515: DataConversionWarning: A column-vector y was passed when a 1d array was expected. Please change the shape of y to (n_samples, ), for example using ravel().\n",
      "  estimator.fit(X_train, y_train, **fit_params)\n",
      "C:\\ProgramData\\Anaconda3\\lib\\site-packages\\sklearn\\model_selection\\_validation.py:536: FitFailedWarning: Estimator fit failed. The score on this train-test partition for these parameters will be set to nan. Details: \n",
      "ValueError: Unknown label type: 'continuous'\n",
      "\n",
      "  FitFailedWarning)\n",
      "C:\\ProgramData\\Anaconda3\\lib\\site-packages\\sklearn\\model_selection\\_validation.py:515: DataConversionWarning: A column-vector y was passed when a 1d array was expected. Please change the shape of y to (n_samples, ), for example using ravel().\n",
      "  estimator.fit(X_train, y_train, **fit_params)\n",
      "C:\\ProgramData\\Anaconda3\\lib\\site-packages\\sklearn\\model_selection\\_validation.py:536: FitFailedWarning: Estimator fit failed. The score on this train-test partition for these parameters will be set to nan. Details: \n",
      "ValueError: Unknown label type: 'continuous'\n",
      "\n",
      "  FitFailedWarning)\n",
      "C:\\ProgramData\\Anaconda3\\lib\\site-packages\\sklearn\\model_selection\\_validation.py:515: DataConversionWarning: A column-vector y was passed when a 1d array was expected. Please change the shape of y to (n_samples, ), for example using ravel().\n",
      "  estimator.fit(X_train, y_train, **fit_params)\n",
      "C:\\ProgramData\\Anaconda3\\lib\\site-packages\\sklearn\\model_selection\\_validation.py:536: FitFailedWarning: Estimator fit failed. The score on this train-test partition for these parameters will be set to nan. Details: \n",
      "ValueError: Unknown label type: 'continuous'\n",
      "\n",
      "  FitFailedWarning)\n",
      "C:\\ProgramData\\Anaconda3\\lib\\site-packages\\sklearn\\model_selection\\_validation.py:515: DataConversionWarning: A column-vector y was passed when a 1d array was expected. Please change the shape of y to (n_samples, ), for example using ravel().\n",
      "  estimator.fit(X_train, y_train, **fit_params)\n",
      "C:\\ProgramData\\Anaconda3\\lib\\site-packages\\sklearn\\model_selection\\_validation.py:536: FitFailedWarning: Estimator fit failed. The score on this train-test partition for these parameters will be set to nan. Details: \n",
      "ValueError: Unknown label type: 'continuous'\n",
      "\n",
      "  FitFailedWarning)\n",
      "C:\\ProgramData\\Anaconda3\\lib\\site-packages\\sklearn\\model_selection\\_validation.py:515: DataConversionWarning: A column-vector y was passed when a 1d array was expected. Please change the shape of y to (n_samples, ), for example using ravel().\n",
      "  estimator.fit(X_train, y_train, **fit_params)\n",
      "C:\\ProgramData\\Anaconda3\\lib\\site-packages\\sklearn\\model_selection\\_validation.py:536: FitFailedWarning: Estimator fit failed. The score on this train-test partition for these parameters will be set to nan. Details: \n",
      "ValueError: Unknown label type: 'continuous'\n",
      "\n",
      "  FitFailedWarning)\n",
      "C:\\ProgramData\\Anaconda3\\lib\\site-packages\\sklearn\\model_selection\\_validation.py:515: DataConversionWarning: A column-vector y was passed when a 1d array was expected. Please change the shape of y to (n_samples, ), for example using ravel().\n",
      "  estimator.fit(X_train, y_train, **fit_params)\n",
      "C:\\ProgramData\\Anaconda3\\lib\\site-packages\\sklearn\\model_selection\\_validation.py:536: FitFailedWarning: Estimator fit failed. The score on this train-test partition for these parameters will be set to nan. Details: \n",
      "ValueError: Unknown label type: 'continuous'\n",
      "\n",
      "  FitFailedWarning)\n",
      "C:\\ProgramData\\Anaconda3\\lib\\site-packages\\sklearn\\model_selection\\_validation.py:515: DataConversionWarning: A column-vector y was passed when a 1d array was expected. Please change the shape of y to (n_samples, ), for example using ravel().\n",
      "  estimator.fit(X_train, y_train, **fit_params)\n",
      "C:\\ProgramData\\Anaconda3\\lib\\site-packages\\sklearn\\model_selection\\_validation.py:536: FitFailedWarning: Estimator fit failed. The score on this train-test partition for these parameters will be set to nan. Details: \n",
      "ValueError: Unknown label type: 'continuous'\n",
      "\n",
      "  FitFailedWarning)\n",
      "C:\\ProgramData\\Anaconda3\\lib\\site-packages\\sklearn\\model_selection\\_validation.py:515: DataConversionWarning: A column-vector y was passed when a 1d array was expected. Please change the shape of y to (n_samples, ), for example using ravel().\n",
      "  estimator.fit(X_train, y_train, **fit_params)\n",
      "C:\\ProgramData\\Anaconda3\\lib\\site-packages\\sklearn\\model_selection\\_validation.py:536: FitFailedWarning: Estimator fit failed. The score on this train-test partition for these parameters will be set to nan. Details: \n",
      "ValueError: Unknown label type: 'continuous'\n",
      "\n",
      "  FitFailedWarning)\n",
      "C:\\ProgramData\\Anaconda3\\lib\\site-packages\\sklearn\\model_selection\\_validation.py:515: DataConversionWarning: A column-vector y was passed when a 1d array was expected. Please change the shape of y to (n_samples, ), for example using ravel().\n",
      "  estimator.fit(X_train, y_train, **fit_params)\n",
      "C:\\ProgramData\\Anaconda3\\lib\\site-packages\\sklearn\\model_selection\\_validation.py:536: FitFailedWarning: Estimator fit failed. The score on this train-test partition for these parameters will be set to nan. Details: \n",
      "ValueError: Unknown label type: 'continuous'\n",
      "\n",
      "  FitFailedWarning)\n",
      "C:\\ProgramData\\Anaconda3\\lib\\site-packages\\sklearn\\model_selection\\_split.py:296: FutureWarning: Setting a random_state has no effect since shuffle is False. This will raise an error in 0.24. You should leave random_state to its default (None), or set shuffle=True.\n",
      "  FutureWarning\n",
      "C:\\ProgramData\\Anaconda3\\lib\\site-packages\\sklearn\\model_selection\\_validation.py:536: FitFailedWarning: Estimator fit failed. The score on this train-test partition for these parameters will be set to nan. Details: \n",
      "ValueError: Unknown label type: 'continuous'\n",
      "\n",
      "  FitFailedWarning)\n",
      "C:\\ProgramData\\Anaconda3\\lib\\site-packages\\sklearn\\model_selection\\_validation.py:536: FitFailedWarning: Estimator fit failed. The score on this train-test partition for these parameters will be set to nan. Details: \n",
      "ValueError: Unknown label type: 'continuous'\n",
      "\n",
      "  FitFailedWarning)\n",
      "C:\\ProgramData\\Anaconda3\\lib\\site-packages\\sklearn\\model_selection\\_validation.py:536: FitFailedWarning: Estimator fit failed. The score on this train-test partition for these parameters will be set to nan. Details: \n",
      "ValueError: Unknown label type: 'continuous'\n",
      "\n",
      "  FitFailedWarning)\n",
      "C:\\ProgramData\\Anaconda3\\lib\\site-packages\\sklearn\\model_selection\\_validation.py:536: FitFailedWarning: Estimator fit failed. The score on this train-test partition for these parameters will be set to nan. Details: \n",
      "ValueError: Unknown label type: 'continuous'\n",
      "\n",
      "  FitFailedWarning)\n",
      "C:\\ProgramData\\Anaconda3\\lib\\site-packages\\sklearn\\model_selection\\_validation.py:536: FitFailedWarning: Estimator fit failed. The score on this train-test partition for these parameters will be set to nan. Details: \n",
      "ValueError: Unknown label type: 'continuous'\n",
      "\n",
      "  FitFailedWarning)\n",
      "C:\\ProgramData\\Anaconda3\\lib\\site-packages\\sklearn\\model_selection\\_validation.py:536: FitFailedWarning: Estimator fit failed. The score on this train-test partition for these parameters will be set to nan. Details: \n",
      "ValueError: Unknown label type: 'continuous'\n",
      "\n",
      "  FitFailedWarning)\n",
      "C:\\ProgramData\\Anaconda3\\lib\\site-packages\\sklearn\\model_selection\\_validation.py:536: FitFailedWarning: Estimator fit failed. The score on this train-test partition for these parameters will be set to nan. Details: \n",
      "ValueError: Unknown label type: 'continuous'\n",
      "\n",
      "  FitFailedWarning)\n",
      "C:\\ProgramData\\Anaconda3\\lib\\site-packages\\sklearn\\model_selection\\_validation.py:536: FitFailedWarning: Estimator fit failed. The score on this train-test partition for these parameters will be set to nan. Details: \n",
      "ValueError: Unknown label type: 'continuous'\n",
      "\n",
      "  FitFailedWarning)\n"
     ]
    },
    {
     "name": "stdout",
     "output_type": "stream",
     "text": [
      "KNN: nan (nan)\n",
      "CART: nan (nan)\n"
     ]
    },
    {
     "name": "stderr",
     "output_type": "stream",
     "text": [
      "C:\\ProgramData\\Anaconda3\\lib\\site-packages\\sklearn\\model_selection\\_validation.py:536: FitFailedWarning: Estimator fit failed. The score on this train-test partition for these parameters will be set to nan. Details: \n",
      "ValueError: Unknown label type: 'continuous'\n",
      "\n",
      "  FitFailedWarning)\n",
      "C:\\ProgramData\\Anaconda3\\lib\\site-packages\\sklearn\\model_selection\\_validation.py:536: FitFailedWarning: Estimator fit failed. The score on this train-test partition for these parameters will be set to nan. Details: \n",
      "ValueError: Unknown label type: 'continuous'\n",
      "\n",
      "  FitFailedWarning)\n",
      "C:\\ProgramData\\Anaconda3\\lib\\site-packages\\sklearn\\model_selection\\_split.py:296: FutureWarning: Setting a random_state has no effect since shuffle is False. This will raise an error in 0.24. You should leave random_state to its default (None), or set shuffle=True.\n",
      "  FutureWarning\n",
      "C:\\ProgramData\\Anaconda3\\lib\\site-packages\\sklearn\\naive_bayes.py:206: DataConversionWarning: A column-vector y was passed when a 1d array was expected. Please change the shape of y to (n_samples, ), for example using ravel().\n",
      "  y = column_or_1d(y, warn=True)\n",
      "C:\\ProgramData\\Anaconda3\\lib\\site-packages\\sklearn\\model_selection\\_validation.py:536: FitFailedWarning: Estimator fit failed. The score on this train-test partition for these parameters will be set to nan. Details: \n",
      "ValueError: Unknown label type: (array([0.62, 0.65, 0.68, 0.7 , 1.17, 1.24, 2.3 , 2.33, 2.62, 2.85, 3.08,\n",
      "       3.13, 3.57, 3.96, 5.07]),)\n",
      "\n",
      "  FitFailedWarning)\n",
      "C:\\ProgramData\\Anaconda3\\lib\\site-packages\\sklearn\\naive_bayes.py:206: DataConversionWarning: A column-vector y was passed when a 1d array was expected. Please change the shape of y to (n_samples, ), for example using ravel().\n",
      "  y = column_or_1d(y, warn=True)\n",
      "C:\\ProgramData\\Anaconda3\\lib\\site-packages\\sklearn\\model_selection\\_validation.py:536: FitFailedWarning: Estimator fit failed. The score on this train-test partition for these parameters will be set to nan. Details: \n",
      "ValueError: Unknown label type: (array([0.62, 0.65, 0.68, 1.24, 2.16, 2.3 , 2.33, 2.62, 2.85, 3.08, 3.13,\n",
      "       3.57, 3.96, 4.16, 5.07]),)\n",
      "\n",
      "  FitFailedWarning)\n",
      "C:\\ProgramData\\Anaconda3\\lib\\site-packages\\sklearn\\naive_bayes.py:206: DataConversionWarning: A column-vector y was passed when a 1d array was expected. Please change the shape of y to (n_samples, ), for example using ravel().\n",
      "  y = column_or_1d(y, warn=True)\n",
      "C:\\ProgramData\\Anaconda3\\lib\\site-packages\\sklearn\\model_selection\\_validation.py:536: FitFailedWarning: Estimator fit failed. The score on this train-test partition for these parameters will be set to nan. Details: \n",
      "ValueError: Unknown label type: (array([0.62, 0.65, 0.68, 0.7 , 1.17, 2.16, 2.33, 2.62, 2.85, 3.08, 3.13,\n",
      "       3.57, 3.96, 4.16, 5.07]),)\n",
      "\n",
      "  FitFailedWarning)\n",
      "C:\\ProgramData\\Anaconda3\\lib\\site-packages\\sklearn\\naive_bayes.py:206: DataConversionWarning: A column-vector y was passed when a 1d array was expected. Please change the shape of y to (n_samples, ), for example using ravel().\n",
      "  y = column_or_1d(y, warn=True)\n",
      "C:\\ProgramData\\Anaconda3\\lib\\site-packages\\sklearn\\model_selection\\_validation.py:536: FitFailedWarning: Estimator fit failed. The score on this train-test partition for these parameters will be set to nan. Details: \n",
      "ValueError: Unknown label type: (array([0.62, 0.65, 0.68, 0.7 , 1.17, 1.24, 2.16, 2.3 , 2.33, 2.62, 2.85,\n",
      "       3.08, 3.13, 3.57, 3.96, 4.16]),)\n",
      "\n",
      "  FitFailedWarning)\n",
      "C:\\ProgramData\\Anaconda3\\lib\\site-packages\\sklearn\\naive_bayes.py:206: DataConversionWarning: A column-vector y was passed when a 1d array was expected. Please change the shape of y to (n_samples, ), for example using ravel().\n",
      "  y = column_or_1d(y, warn=True)\n",
      "C:\\ProgramData\\Anaconda3\\lib\\site-packages\\sklearn\\model_selection\\_validation.py:536: FitFailedWarning: Estimator fit failed. The score on this train-test partition for these parameters will be set to nan. Details: \n",
      "ValueError: Unknown label type: (array([0.62, 0.65, 0.68, 0.7 , 1.17, 1.24, 2.16, 2.3 , 2.33, 2.85, 3.08,\n",
      "       3.13, 3.57, 3.96, 4.16, 5.07]),)\n",
      "\n",
      "  FitFailedWarning)\n",
      "C:\\ProgramData\\Anaconda3\\lib\\site-packages\\sklearn\\naive_bayes.py:206: DataConversionWarning: A column-vector y was passed when a 1d array was expected. Please change the shape of y to (n_samples, ), for example using ravel().\n",
      "  y = column_or_1d(y, warn=True)\n",
      "C:\\ProgramData\\Anaconda3\\lib\\site-packages\\sklearn\\model_selection\\_validation.py:536: FitFailedWarning: Estimator fit failed. The score on this train-test partition for these parameters will be set to nan. Details: \n",
      "ValueError: Unknown label type: (array([0.65, 0.68, 0.7 , 1.17, 1.24, 2.16, 2.3 , 2.33, 2.62, 2.85, 3.08,\n",
      "       3.57, 3.96, 4.16, 5.07]),)\n",
      "\n",
      "  FitFailedWarning)\n",
      "C:\\ProgramData\\Anaconda3\\lib\\site-packages\\sklearn\\naive_bayes.py:206: DataConversionWarning: A column-vector y was passed when a 1d array was expected. Please change the shape of y to (n_samples, ), for example using ravel().\n",
      "  y = column_or_1d(y, warn=True)\n",
      "C:\\ProgramData\\Anaconda3\\lib\\site-packages\\sklearn\\model_selection\\_validation.py:536: FitFailedWarning: Estimator fit failed. The score on this train-test partition for these parameters will be set to nan. Details: \n",
      "ValueError: Unknown label type: (array([0.62, 0.68, 0.7 , 1.17, 1.24, 2.16, 2.3 , 2.33, 2.62, 2.85, 3.08,\n",
      "       3.13, 3.96, 4.16, 5.07]),)\n",
      "\n",
      "  FitFailedWarning)\n",
      "C:\\ProgramData\\Anaconda3\\lib\\site-packages\\sklearn\\naive_bayes.py:206: DataConversionWarning: A column-vector y was passed when a 1d array was expected. Please change the shape of y to (n_samples, ), for example using ravel().\n",
      "  y = column_or_1d(y, warn=True)\n",
      "C:\\ProgramData\\Anaconda3\\lib\\site-packages\\sklearn\\model_selection\\_validation.py:536: FitFailedWarning: Estimator fit failed. The score on this train-test partition for these parameters will be set to nan. Details: \n",
      "ValueError: Unknown label type: (array([0.62, 0.65, 0.68, 0.7 , 1.17, 1.24, 2.16, 2.3 , 2.33, 2.62, 2.85,\n",
      "       3.08, 3.13, 3.57, 4.16, 5.07]),)\n",
      "\n",
      "  FitFailedWarning)\n",
      "C:\\ProgramData\\Anaconda3\\lib\\site-packages\\sklearn\\naive_bayes.py:206: DataConversionWarning: A column-vector y was passed when a 1d array was expected. Please change the shape of y to (n_samples, ), for example using ravel().\n",
      "  y = column_or_1d(y, warn=True)\n",
      "C:\\ProgramData\\Anaconda3\\lib\\site-packages\\sklearn\\model_selection\\_validation.py:536: FitFailedWarning: Estimator fit failed. The score on this train-test partition for these parameters will be set to nan. Details: \n",
      "ValueError: Unknown label type: (array([0.62, 0.65, 0.68, 0.7 , 1.17, 1.24, 2.16, 2.3 , 2.33, 2.62, 3.13,\n",
      "       3.57, 3.96, 4.16, 5.07]),)\n",
      "\n",
      "  FitFailedWarning)\n",
      "C:\\ProgramData\\Anaconda3\\lib\\site-packages\\sklearn\\naive_bayes.py:206: DataConversionWarning: A column-vector y was passed when a 1d array was expected. Please change the shape of y to (n_samples, ), for example using ravel().\n",
      "  y = column_or_1d(y, warn=True)\n",
      "C:\\ProgramData\\Anaconda3\\lib\\site-packages\\sklearn\\model_selection\\_validation.py:536: FitFailedWarning: Estimator fit failed. The score on this train-test partition for these parameters will be set to nan. Details: \n",
      "ValueError: Unknown label type: (array([0.62, 0.65, 0.68, 0.7 , 1.17, 1.24, 2.16, 2.3 , 2.33, 2.62, 2.85,\n",
      "       3.08, 3.13, 3.57, 3.96, 4.16, 5.07]),)\n",
      "\n",
      "  FitFailedWarning)\n",
      "C:\\ProgramData\\Anaconda3\\lib\\site-packages\\sklearn\\model_selection\\_split.py:296: FutureWarning: Setting a random_state has no effect since shuffle is False. This will raise an error in 0.24. You should leave random_state to its default (None), or set shuffle=True.\n",
      "  FutureWarning\n"
     ]
    },
    {
     "name": "stdout",
     "output_type": "stream",
     "text": [
      "NB: nan (nan)\n",
      "SVM: nan (nan)\n"
     ]
    },
    {
     "name": "stderr",
     "output_type": "stream",
     "text": [
      "C:\\ProgramData\\Anaconda3\\lib\\site-packages\\sklearn\\utils\\validation.py:760: DataConversionWarning: A column-vector y was passed when a 1d array was expected. Please change the shape of y to (n_samples, ), for example using ravel().\n",
      "  y = column_or_1d(y, warn=True)\n",
      "C:\\ProgramData\\Anaconda3\\lib\\site-packages\\sklearn\\model_selection\\_validation.py:536: FitFailedWarning: Estimator fit failed. The score on this train-test partition for these parameters will be set to nan. Details: \n",
      "ValueError: Unknown label type: 'continuous'\n",
      "\n",
      "  FitFailedWarning)\n",
      "C:\\ProgramData\\Anaconda3\\lib\\site-packages\\sklearn\\utils\\validation.py:760: DataConversionWarning: A column-vector y was passed when a 1d array was expected. Please change the shape of y to (n_samples, ), for example using ravel().\n",
      "  y = column_or_1d(y, warn=True)\n",
      "C:\\ProgramData\\Anaconda3\\lib\\site-packages\\sklearn\\model_selection\\_validation.py:536: FitFailedWarning: Estimator fit failed. The score on this train-test partition for these parameters will be set to nan. Details: \n",
      "ValueError: Unknown label type: 'continuous'\n",
      "\n",
      "  FitFailedWarning)\n",
      "C:\\ProgramData\\Anaconda3\\lib\\site-packages\\sklearn\\utils\\validation.py:760: DataConversionWarning: A column-vector y was passed when a 1d array was expected. Please change the shape of y to (n_samples, ), for example using ravel().\n",
      "  y = column_or_1d(y, warn=True)\n",
      "C:\\ProgramData\\Anaconda3\\lib\\site-packages\\sklearn\\model_selection\\_validation.py:536: FitFailedWarning: Estimator fit failed. The score on this train-test partition for these parameters will be set to nan. Details: \n",
      "ValueError: Unknown label type: 'continuous'\n",
      "\n",
      "  FitFailedWarning)\n",
      "C:\\ProgramData\\Anaconda3\\lib\\site-packages\\sklearn\\utils\\validation.py:760: DataConversionWarning: A column-vector y was passed when a 1d array was expected. Please change the shape of y to (n_samples, ), for example using ravel().\n",
      "  y = column_or_1d(y, warn=True)\n",
      "C:\\ProgramData\\Anaconda3\\lib\\site-packages\\sklearn\\model_selection\\_validation.py:536: FitFailedWarning: Estimator fit failed. The score on this train-test partition for these parameters will be set to nan. Details: \n",
      "ValueError: Unknown label type: 'continuous'\n",
      "\n",
      "  FitFailedWarning)\n",
      "C:\\ProgramData\\Anaconda3\\lib\\site-packages\\sklearn\\utils\\validation.py:760: DataConversionWarning: A column-vector y was passed when a 1d array was expected. Please change the shape of y to (n_samples, ), for example using ravel().\n",
      "  y = column_or_1d(y, warn=True)\n",
      "C:\\ProgramData\\Anaconda3\\lib\\site-packages\\sklearn\\model_selection\\_validation.py:536: FitFailedWarning: Estimator fit failed. The score on this train-test partition for these parameters will be set to nan. Details: \n",
      "ValueError: Unknown label type: 'continuous'\n",
      "\n",
      "  FitFailedWarning)\n",
      "C:\\ProgramData\\Anaconda3\\lib\\site-packages\\sklearn\\utils\\validation.py:760: DataConversionWarning: A column-vector y was passed when a 1d array was expected. Please change the shape of y to (n_samples, ), for example using ravel().\n",
      "  y = column_or_1d(y, warn=True)\n",
      "C:\\ProgramData\\Anaconda3\\lib\\site-packages\\sklearn\\model_selection\\_validation.py:536: FitFailedWarning: Estimator fit failed. The score on this train-test partition for these parameters will be set to nan. Details: \n",
      "ValueError: Unknown label type: 'continuous'\n",
      "\n",
      "  FitFailedWarning)\n",
      "C:\\ProgramData\\Anaconda3\\lib\\site-packages\\sklearn\\utils\\validation.py:760: DataConversionWarning: A column-vector y was passed when a 1d array was expected. Please change the shape of y to (n_samples, ), for example using ravel().\n",
      "  y = column_or_1d(y, warn=True)\n",
      "C:\\ProgramData\\Anaconda3\\lib\\site-packages\\sklearn\\model_selection\\_validation.py:536: FitFailedWarning: Estimator fit failed. The score on this train-test partition for these parameters will be set to nan. Details: \n",
      "ValueError: Unknown label type: 'continuous'\n",
      "\n",
      "  FitFailedWarning)\n",
      "C:\\ProgramData\\Anaconda3\\lib\\site-packages\\sklearn\\utils\\validation.py:760: DataConversionWarning: A column-vector y was passed when a 1d array was expected. Please change the shape of y to (n_samples, ), for example using ravel().\n",
      "  y = column_or_1d(y, warn=True)\n",
      "C:\\ProgramData\\Anaconda3\\lib\\site-packages\\sklearn\\model_selection\\_validation.py:536: FitFailedWarning: Estimator fit failed. The score on this train-test partition for these parameters will be set to nan. Details: \n",
      "ValueError: Unknown label type: 'continuous'\n",
      "\n",
      "  FitFailedWarning)\n",
      "C:\\ProgramData\\Anaconda3\\lib\\site-packages\\sklearn\\utils\\validation.py:760: DataConversionWarning: A column-vector y was passed when a 1d array was expected. Please change the shape of y to (n_samples, ), for example using ravel().\n",
      "  y = column_or_1d(y, warn=True)\n",
      "C:\\ProgramData\\Anaconda3\\lib\\site-packages\\sklearn\\model_selection\\_validation.py:536: FitFailedWarning: Estimator fit failed. The score on this train-test partition for these parameters will be set to nan. Details: \n",
      "ValueError: Unknown label type: 'continuous'\n",
      "\n",
      "  FitFailedWarning)\n",
      "C:\\ProgramData\\Anaconda3\\lib\\site-packages\\sklearn\\utils\\validation.py:760: DataConversionWarning: A column-vector y was passed when a 1d array was expected. Please change the shape of y to (n_samples, ), for example using ravel().\n",
      "  y = column_or_1d(y, warn=True)\n",
      "C:\\ProgramData\\Anaconda3\\lib\\site-packages\\sklearn\\model_selection\\_validation.py:536: FitFailedWarning: Estimator fit failed. The score on this train-test partition for these parameters will be set to nan. Details: \n",
      "ValueError: Unknown label type: 'continuous'\n",
      "\n",
      "  FitFailedWarning)\n"
     ]
    }
   ],
   "source": [
    "\n",
    "models = []\n",
    "models.append(('LR', LogisticRegression()))\n",
    "models.append(('LDA', LinearDiscriminantAnalysis()))\n",
    "models.append(('KNN', KNeighborsClassifier()))\n",
    "models.append(('CART', DecisionTreeClassifier()))\n",
    "models.append(('NB', GaussianNB()))\n",
    "models.append(('SVM', SVC()))\n",
    "# evaluate each model in turn\n",
    "results = []\n",
    "names = []\n",
    "for name, model in models:\n",
    "    kfold = KFold(n_splits=10, random_state=seed)\n",
    "    cv_results = cross_val_score(model, X_train, Y_train, cv=kfold, scoring='accuracy')\n",
    "    results.append(cv_results)\n",
    "    names.append(name)\n",
    "    msg = \"%s: %f (%f)\" % (name, cv_results.mean(), cv_results.std())\n",
    "    print(msg)"
   ]
  },
  {
   "cell_type": "code",
   "execution_count": null,
   "metadata": {},
   "outputs": [],
   "source": []
  },
  {
   "cell_type": "code",
   "execution_count": null,
   "metadata": {},
   "outputs": [],
   "source": []
  },
  {
   "cell_type": "code",
   "execution_count": 52,
   "metadata": {},
   "outputs": [],
   "source": [
    "from pandas import set_option"
   ]
  },
  {
   "cell_type": "code",
   "execution_count": 53,
   "metadata": {},
   "outputs": [],
   "source": [
    "set_option('precision', 3)\n",
    "set_option('display.width', 100)\n",
    "correlations= df.corr(method= 'pearson')"
   ]
  },
  {
   "cell_type": "code",
   "execution_count": 54,
   "metadata": {},
   "outputs": [],
   "source": [
    "correlations\n",
    "set_option('precision', 2)"
   ]
  },
  {
   "cell_type": "code",
   "execution_count": 55,
   "metadata": {},
   "outputs": [],
   "source": [
    "skew= df.skew()"
   ]
  },
  {
   "cell_type": "code",
   "execution_count": 56,
   "metadata": {},
   "outputs": [
    {
     "data": {
      "text/plain": [
       "Fish_meal         0.83\n",
       "rockyprawn        2.63\n",
       "Feather Meal      2.27\n",
       "brewers_waste     1.53\n",
       "soybean_mel       0.98\n",
       "blood_meal        0.77\n",
       "Lipid             1.15\n",
       "maggot_meal       1.91\n",
       "wheatbran         0.90\n",
       "yellow_maize     -0.10\n",
       "groundnut_cake    0.59\n",
       "CMC               1.23\n",
       "Vitamin           1.19\n",
       "Chromic           0.96\n",
       "Minerals          0.93\n",
       "Calcium           0.24\n",
       "Cellulose         1.39\n",
       "Tapioca           1.23\n",
       "protein           0.32\n",
       "fat               0.46\n",
       "ash               1.21\n",
       "crude_fibre       0.23\n",
       "NFE               1.75\n",
       "moisture         -0.97\n",
       "culture_period   -0.84\n",
       "fish_weight       0.84\n",
       "WG                2.07\n",
       "PER               0.38\n",
       "FCR               0.55\n",
       "SGR               2.53\n",
       "FCR_churn         0.36\n",
       "dtype: float64"
      ]
     },
     "execution_count": 56,
     "metadata": {},
     "output_type": "execute_result"
    }
   ],
   "source": [
    "skew"
   ]
  },
  {
   "cell_type": "code",
   "execution_count": 57,
   "metadata": {},
   "outputs": [],
   "source": [
    "from matplotlib import pyplot"
   ]
  },
  {
   "cell_type": "code",
   "execution_count": 58,
   "metadata": {},
   "outputs": [
    {
     "data": {
      "image/png": "[encoded data removed]",
      "text/plain": [
       "<Figure size 432x288 with 36 Axes>"
      ]
     },
     "metadata": {
      "needs_background": "light"
     },
     "output_type": "display_data"
    }
   ],
   "source": [
    "df.hist()\n",
    "pyplot.show()"
   ]
  },
  {
   "cell_type": "code",
   "execution_count": 59,
   "metadata": {},
   "outputs": [
    {
     "ename": "SyntaxError",
     "evalue": "invalid syntax (<ipython-input-59-a5d5b61aa8a6>, line 1)",
     "output_type": "error",
     "traceback": [
      "\u001b[1;36m  File \u001b[1;32m\"<ipython-input-59-a5d5b61aa8a6>\"\u001b[1;36m, line \u001b[1;32m1\u001b[0m\n\u001b[1;33m    .\u001b[0m\n\u001b[1;37m    ^\u001b[0m\n\u001b[1;31mSyntaxError\u001b[0m\u001b[1;31m:\u001b[0m invalid syntax\n"
     ]
    }
   ],
   "source": [
    "."
   ]
  },
  {
   "cell_type": "code",
   "execution_count": null,
   "metadata": {},
   "outputs": [],
   "source": []
  },
  {
   "cell_type": "code",
   "execution_count": 60,
   "metadata": {},
   "outputs": [
    {
     "ename": "ValueError",
     "evalue": "Layout of 3x3 must be larger than required size 31",
     "output_type": "error",
     "traceback": [
      "\u001b[1;31m---------------------------------------------------------------------------\u001b[0m",
      "\u001b[1;31mValueError\u001b[0m                                Traceback (most recent call last)",
      "\u001b[1;32m<ipython-input-60-9507f2410f4c>\u001b[0m in \u001b[0;36m<module>\u001b[1;34m\u001b[0m\n\u001b[1;32m----> 1\u001b[1;33m \u001b[0mdf\u001b[0m\u001b[1;33m.\u001b[0m\u001b[0mplot\u001b[0m\u001b[1;33m(\u001b[0m\u001b[0mkind\u001b[0m\u001b[1;33m=\u001b[0m \u001b[1;34m'box'\u001b[0m\u001b[1;33m,\u001b[0m \u001b[0msubplots\u001b[0m\u001b[1;33m=\u001b[0m \u001b[1;32mTrue\u001b[0m\u001b[1;33m,\u001b[0m \u001b[0mlayout\u001b[0m\u001b[1;33m=\u001b[0m \u001b[1;33m(\u001b[0m\u001b[1;36m3\u001b[0m\u001b[1;33m,\u001b[0m\u001b[1;36m3\u001b[0m\u001b[1;33m)\u001b[0m\u001b[1;33m,\u001b[0m \u001b[0msharex\u001b[0m\u001b[1;33m=\u001b[0m \u001b[1;32mFalse\u001b[0m\u001b[1;33m)\u001b[0m\u001b[1;33m\u001b[0m\u001b[1;33m\u001b[0m\u001b[0m\n\u001b[0m\u001b[0;32m      2\u001b[0m \u001b[0mpyplot\u001b[0m\u001b[1;33m.\u001b[0m\u001b[0mshow\u001b[0m\u001b[1;33m(\u001b[0m\u001b[1;33m)\u001b[0m\u001b[1;33m\u001b[0m\u001b[1;33m\u001b[0m\u001b[0m\n",
      "\u001b[1;32mC:\\ProgramData\\Anaconda3\\lib\\site-packages\\pandas\\plotting\\_core.py\u001b[0m in \u001b[0;36m__call__\u001b[1;34m(self, *args, **kwargs)\u001b[0m\n\u001b[0;32m    845\u001b[0m                     \u001b[0mdata\u001b[0m\u001b[1;33m.\u001b[0m\u001b[0mcolumns\u001b[0m \u001b[1;33m=\u001b[0m \u001b[0mlabel_name\u001b[0m\u001b[1;33m\u001b[0m\u001b[1;33m\u001b[0m\u001b[0m\n\u001b[0;32m    846\u001b[0m \u001b[1;33m\u001b[0m\u001b[0m\n\u001b[1;32m--> 847\u001b[1;33m         \u001b[1;32mreturn\u001b[0m \u001b[0mplot_backend\u001b[0m\u001b[1;33m.\u001b[0m\u001b[0mplot\u001b[0m\u001b[1;33m(\u001b[0m\u001b[0mdata\u001b[0m\u001b[1;33m,\u001b[0m \u001b[0mkind\u001b[0m\u001b[1;33m=\u001b[0m\u001b[0mkind\u001b[0m\u001b[1;33m,\u001b[0m \u001b[1;33m**\u001b[0m\u001b[0mkwargs\u001b[0m\u001b[1;33m)\u001b[0m\u001b[1;33m\u001b[0m\u001b[1;33m\u001b[0m\u001b[0m\n\u001b[0m\u001b[0;32m    848\u001b[0m \u001b[1;33m\u001b[0m\u001b[0m\n\u001b[0;32m    849\u001b[0m     \u001b[0m__call__\u001b[0m\u001b[1;33m.\u001b[0m\u001b[0m__doc__\u001b[0m \u001b[1;33m=\u001b[0m \u001b[0m__doc__\u001b[0m\u001b[1;33m\u001b[0m\u001b[1;33m\u001b[0m\u001b[0m\n",
      "\u001b[1;32mC:\\ProgramData\\Anaconda3\\lib\\site-packages\\pandas\\plotting\\_matplotlib\\__init__.py\u001b[0m in \u001b[0;36mplot\u001b[1;34m(data, kind, **kwargs)\u001b[0m\n\u001b[0;32m     59\u001b[0m             \u001b[0mkwargs\u001b[0m\u001b[1;33m[\u001b[0m\u001b[1;34m\"ax\"\u001b[0m\u001b[1;33m]\u001b[0m \u001b[1;33m=\u001b[0m \u001b[0mgetattr\u001b[0m\u001b[1;33m(\u001b[0m\u001b[0max\u001b[0m\u001b[1;33m,\u001b[0m \u001b[1;34m\"left_ax\"\u001b[0m\u001b[1;33m,\u001b[0m \u001b[0max\u001b[0m\u001b[1;33m)\u001b[0m\u001b[1;33m\u001b[0m\u001b[1;33m\u001b[0m\u001b[0m\n\u001b[0;32m     60\u001b[0m     \u001b[0mplot_obj\u001b[0m \u001b[1;33m=\u001b[0m \u001b[0mPLOT_CLASSES\u001b[0m\u001b[1;33m[\u001b[0m\u001b[0mkind\u001b[0m\u001b[1;33m]\u001b[0m\u001b[1;33m(\u001b[0m\u001b[0mdata\u001b[0m\u001b[1;33m,\u001b[0m \u001b[1;33m**\u001b[0m\u001b[0mkwargs\u001b[0m\u001b[1;33m)\u001b[0m\u001b[1;33m\u001b[0m\u001b[1;33m\u001b[0m\u001b[0m\n\u001b[1;32m---> 61\u001b[1;33m     \u001b[0mplot_obj\u001b[0m\u001b[1;33m.\u001b[0m\u001b[0mgenerate\u001b[0m\u001b[1;33m(\u001b[0m\u001b[1;33m)\u001b[0m\u001b[1;33m\u001b[0m\u001b[1;33m\u001b[0m\u001b[0m\n\u001b[0m\u001b[0;32m     62\u001b[0m     \u001b[0mplot_obj\u001b[0m\u001b[1;33m.\u001b[0m\u001b[0mdraw\u001b[0m\u001b[1;33m(\u001b[0m\u001b[1;33m)\u001b[0m\u001b[1;33m\u001b[0m\u001b[1;33m\u001b[0m\u001b[0m\n\u001b[0;32m     63\u001b[0m     \u001b[1;32mreturn\u001b[0m \u001b[0mplot_obj\u001b[0m\u001b[1;33m.\u001b[0m\u001b[0mresult\u001b[0m\u001b[1;33m\u001b[0m\u001b[1;33m\u001b[0m\u001b[0m\n",
      "\u001b[1;32mC:\\ProgramData\\Anaconda3\\lib\\site-packages\\pandas\\plotting\\_matplotlib\\core.py\u001b[0m in \u001b[0;36mgenerate\u001b[1;34m(self)\u001b[0m\n\u001b[0;32m    260\u001b[0m         \u001b[0mself\u001b[0m\u001b[1;33m.\u001b[0m\u001b[0m_args_adjust\u001b[0m\u001b[1;33m(\u001b[0m\u001b[1;33m)\u001b[0m\u001b[1;33m\u001b[0m\u001b[1;33m\u001b[0m\u001b[0m\n\u001b[0;32m    261\u001b[0m         \u001b[0mself\u001b[0m\u001b[1;33m.\u001b[0m\u001b[0m_compute_plot_data\u001b[0m\u001b[1;33m(\u001b[0m\u001b[1;33m)\u001b[0m\u001b[1;33m\u001b[0m\u001b[1;33m\u001b[0m\u001b[0m\n\u001b[1;32m--> 262\u001b[1;33m         \u001b[0mself\u001b[0m\u001b[1;33m.\u001b[0m\u001b[0m_setup_subplots\u001b[0m\u001b[1;33m(\u001b[0m\u001b[1;33m)\u001b[0m\u001b[1;33m\u001b[0m\u001b[1;33m\u001b[0m\u001b[0m\n\u001b[0m\u001b[0;32m    263\u001b[0m         \u001b[0mself\u001b[0m\u001b[1;33m.\u001b[0m\u001b[0m_make_plot\u001b[0m\u001b[1;33m(\u001b[0m\u001b[1;33m)\u001b[0m\u001b[1;33m\u001b[0m\u001b[1;33m\u001b[0m\u001b[0m\n\u001b[0;32m    264\u001b[0m         \u001b[0mself\u001b[0m\u001b[1;33m.\u001b[0m\u001b[0m_add_table\u001b[0m\u001b[1;33m(\u001b[0m\u001b[1;33m)\u001b[0m\u001b[1;33m\u001b[0m\u001b[1;33m\u001b[0m\u001b[0m\n",
      "\u001b[1;32mC:\\ProgramData\\Anaconda3\\lib\\site-packages\\pandas\\plotting\\_matplotlib\\core.py\u001b[0m in \u001b[0;36m_setup_subplots\u001b[1;34m(self)\u001b[0m\n\u001b[0;32m    314\u001b[0m                 \u001b[0max\u001b[0m\u001b[1;33m=\u001b[0m\u001b[0mself\u001b[0m\u001b[1;33m.\u001b[0m\u001b[0max\u001b[0m\u001b[1;33m,\u001b[0m\u001b[1;33m\u001b[0m\u001b[1;33m\u001b[0m\u001b[0m\n\u001b[0;32m    315\u001b[0m                 \u001b[0mlayout\u001b[0m\u001b[1;33m=\u001b[0m\u001b[0mself\u001b[0m\u001b[1;33m.\u001b[0m\u001b[0mlayout\u001b[0m\u001b[1;33m,\u001b[0m\u001b[1;33m\u001b[0m\u001b[1;33m\u001b[0m\u001b[0m\n\u001b[1;32m--> 316\u001b[1;33m                 \u001b[0mlayout_type\u001b[0m\u001b[1;33m=\u001b[0m\u001b[0mself\u001b[0m\u001b[1;33m.\u001b[0m\u001b[0m_layout_type\u001b[0m\u001b[1;33m,\u001b[0m\u001b[1;33m\u001b[0m\u001b[1;33m\u001b[0m\u001b[0m\n\u001b[0m\u001b[0;32m    317\u001b[0m             )\n\u001b[0;32m    318\u001b[0m         \u001b[1;32melse\u001b[0m\u001b[1;33m:\u001b[0m\u001b[1;33m\u001b[0m\u001b[1;33m\u001b[0m\u001b[0m\n",
      "\u001b[1;32mC:\\ProgramData\\Anaconda3\\lib\\site-packages\\pandas\\plotting\\_matplotlib\\tools.py\u001b[0m in \u001b[0;36m_subplots\u001b[1;34m(naxes, sharex, sharey, squeeze, subplot_kw, ax, layout, layout_type, **fig_kw)\u001b[0m\n\u001b[0;32m    221\u001b[0m             \u001b[0mfig\u001b[0m\u001b[1;33m.\u001b[0m\u001b[0mclear\u001b[0m\u001b[1;33m(\u001b[0m\u001b[1;33m)\u001b[0m\u001b[1;33m\u001b[0m\u001b[1;33m\u001b[0m\u001b[0m\n\u001b[0;32m    222\u001b[0m \u001b[1;33m\u001b[0m\u001b[0m\n\u001b[1;32m--> 223\u001b[1;33m     \u001b[0mnrows\u001b[0m\u001b[1;33m,\u001b[0m \u001b[0mncols\u001b[0m \u001b[1;33m=\u001b[0m \u001b[0m_get_layout\u001b[0m\u001b[1;33m(\u001b[0m\u001b[0mnaxes\u001b[0m\u001b[1;33m,\u001b[0m \u001b[0mlayout\u001b[0m\u001b[1;33m=\u001b[0m\u001b[0mlayout\u001b[0m\u001b[1;33m,\u001b[0m \u001b[0mlayout_type\u001b[0m\u001b[1;33m=\u001b[0m\u001b[0mlayout_type\u001b[0m\u001b[1;33m)\u001b[0m\u001b[1;33m\u001b[0m\u001b[1;33m\u001b[0m\u001b[0m\n\u001b[0m\u001b[0;32m    224\u001b[0m     \u001b[0mnplots\u001b[0m \u001b[1;33m=\u001b[0m \u001b[0mnrows\u001b[0m \u001b[1;33m*\u001b[0m \u001b[0mncols\u001b[0m\u001b[1;33m\u001b[0m\u001b[1;33m\u001b[0m\u001b[0m\n\u001b[0;32m    225\u001b[0m \u001b[1;33m\u001b[0m\u001b[0m\n",
      "\u001b[1;32mC:\\ProgramData\\Anaconda3\\lib\\site-packages\\pandas\\plotting\\_matplotlib\\tools.py\u001b[0m in \u001b[0;36m_get_layout\u001b[1;34m(nplots, layout, layout_type)\u001b[0m\n\u001b[0;32m     61\u001b[0m         \u001b[1;32mif\u001b[0m \u001b[0mnrows\u001b[0m \u001b[1;33m*\u001b[0m \u001b[0mncols\u001b[0m \u001b[1;33m<\u001b[0m \u001b[0mnplots\u001b[0m\u001b[1;33m:\u001b[0m\u001b[1;33m\u001b[0m\u001b[1;33m\u001b[0m\u001b[0m\n\u001b[0;32m     62\u001b[0m             raise ValueError(\n\u001b[1;32m---> 63\u001b[1;33m                 \u001b[1;34mf\"Layout of {nrows}x{ncols} must be larger than required size {nplots}\"\u001b[0m\u001b[1;33m\u001b[0m\u001b[1;33m\u001b[0m\u001b[0m\n\u001b[0m\u001b[0;32m     64\u001b[0m             )\n\u001b[0;32m     65\u001b[0m \u001b[1;33m\u001b[0m\u001b[0m\n",
      "\u001b[1;31mValueError\u001b[0m: Layout of 3x3 must be larger than required size 31"
     ]
    },
    {
     "data": {
      "text/plain": [
       "<Figure size 432x288 with 0 Axes>"
      ]
     },
     "metadata": {},
     "output_type": "display_data"
    }
   ],
   "source": [
    "df.plot(kind= 'box', subplots= True, layout= (3,3), sharex= False)\n",
    "pyplot.show()"
   ]
  },
  {
   "cell_type": "code",
   "execution_count": 61,
   "metadata": {},
   "outputs": [
    {
     "data": {
      "text/html": [
       "<div>\n",
       "<style scoped>\n",
       "    .dataframe tbody tr th:only-of-type {\n",
       "        vertical-align: middle;\n",
       "    }\n",
       "\n",
       "    .dataframe tbody tr th {\n",
       "        vertical-align: top;\n",
       "    }\n",
       "\n",
       "    .dataframe thead th {\n",
       "        text-align: right;\n",
       "    }\n",
       "</style>\n",
       "<table border=\"1\" class=\"dataframe\">\n",
       "  <thead>\n",
       "    <tr style=\"text-align: right;\">\n",
       "      <th></th>\n",
       "      <th>Fish_meal</th>\n",
       "      <th>rockyprawn</th>\n",
       "      <th>Feather Meal</th>\n",
       "      <th>brewers_waste</th>\n",
       "      <th>soybean_mel</th>\n",
       "      <th>blood_meal</th>\n",
       "      <th>Lipid</th>\n",
       "      <th>maggot_meal</th>\n",
       "      <th>wheatbran</th>\n",
       "      <th>yellow_maize</th>\n",
       "      <th>...</th>\n",
       "      <th>crude_fibre</th>\n",
       "      <th>NFE</th>\n",
       "      <th>moisture</th>\n",
       "      <th>culture_period</th>\n",
       "      <th>fish_weight</th>\n",
       "      <th>WG</th>\n",
       "      <th>PER</th>\n",
       "      <th>FCR</th>\n",
       "      <th>SGR</th>\n",
       "      <th>FCR_churn</th>\n",
       "    </tr>\n",
       "  </thead>\n",
       "  <tbody>\n",
       "    <tr>\n",
       "      <th>Fish_meal</th>\n",
       "      <td>1.00</td>\n",
       "      <td>-0.18</td>\n",
       "      <td>-0.21</td>\n",
       "      <td>0.25</td>\n",
       "      <td>-4.31e-01</td>\n",
       "      <td>0.03</td>\n",
       "      <td>6.56e-02</td>\n",
       "      <td>-2.22e-01</td>\n",
       "      <td>-0.06</td>\n",
       "      <td>-0.07</td>\n",
       "      <td>...</td>\n",
       "      <td>-0.36</td>\n",
       "      <td>3.35e-01</td>\n",
       "      <td>-0.19</td>\n",
       "      <td>-0.13</td>\n",
       "      <td>0.05</td>\n",
       "      <td>4.02e-01</td>\n",
       "      <td>0.29</td>\n",
       "      <td>0.16</td>\n",
       "      <td>5.74e-01</td>\n",
       "      <td>-1.15e-01</td>\n",
       "    </tr>\n",
       "    <tr>\n",
       "      <th>rockyprawn</th>\n",
       "      <td>-0.18</td>\n",
       "      <td>1.00</td>\n",
       "      <td>-0.18</td>\n",
       "      <td>0.78</td>\n",
       "      <td>-2.75e-01</td>\n",
       "      <td>0.53</td>\n",
       "      <td>-1.09e-01</td>\n",
       "      <td>-2.08e-01</td>\n",
       "      <td>-0.28</td>\n",
       "      <td>0.16</td>\n",
       "      <td>...</td>\n",
       "      <td>-0.44</td>\n",
       "      <td>5.11e-01</td>\n",
       "      <td>0.22</td>\n",
       "      <td>0.41</td>\n",
       "      <td>0.06</td>\n",
       "      <td>-3.08e-01</td>\n",
       "      <td>0.48</td>\n",
       "      <td>0.08</td>\n",
       "      <td>-6.31e-02</td>\n",
       "      <td>-3.39e-01</td>\n",
       "    </tr>\n",
       "    <tr>\n",
       "      <th>Feather Meal</th>\n",
       "      <td>-0.21</td>\n",
       "      <td>-0.18</td>\n",
       "      <td>1.00</td>\n",
       "      <td>-0.23</td>\n",
       "      <td>-3.11e-01</td>\n",
       "      <td>-0.32</td>\n",
       "      <td>8.77e-01</td>\n",
       "      <td>-2.36e-01</td>\n",
       "      <td>-0.31</td>\n",
       "      <td>-0.61</td>\n",
       "      <td>...</td>\n",
       "      <td>0.23</td>\n",
       "      <td>-2.02e-01</td>\n",
       "      <td>-0.68</td>\n",
       "      <td>-0.74</td>\n",
       "      <td>-0.43</td>\n",
       "      <td>-2.41e-01</td>\n",
       "      <td>-0.19</td>\n",
       "      <td>0.12</td>\n",
       "      <td>-8.77e-02</td>\n",
       "      <td>-3.22e-01</td>\n",
       "    </tr>\n",
       "    <tr>\n",
       "      <th>brewers_waste</th>\n",
       "      <td>0.25</td>\n",
       "      <td>0.78</td>\n",
       "      <td>-0.23</td>\n",
       "      <td>1.00</td>\n",
       "      <td>-3.52e-01</td>\n",
       "      <td>0.68</td>\n",
       "      <td>-1.39e-01</td>\n",
       "      <td>-2.67e-01</td>\n",
       "      <td>-0.35</td>\n",
       "      <td>0.20</td>\n",
       "      <td>...</td>\n",
       "      <td>-0.60</td>\n",
       "      <td>8.61e-01</td>\n",
       "      <td>0.26</td>\n",
       "      <td>0.52</td>\n",
       "      <td>0.08</td>\n",
       "      <td>-3.93e-01</td>\n",
       "      <td>0.66</td>\n",
       "      <td>0.08</td>\n",
       "      <td>-2.81e-02</td>\n",
       "      <td>-4.34e-01</td>\n",
       "    </tr>\n",
       "    <tr>\n",
       "      <th>soybean_mel</th>\n",
       "      <td>-0.43</td>\n",
       "      <td>-0.27</td>\n",
       "      <td>-0.31</td>\n",
       "      <td>-0.35</td>\n",
       "      <td>1.00e+00</td>\n",
       "      <td>0.24</td>\n",
       "      <td>-2.88e-01</td>\n",
       "      <td>-8.36e-03</td>\n",
       "      <td>0.11</td>\n",
       "      <td>0.11</td>\n",
       "      <td>...</td>\n",
       "      <td>0.57</td>\n",
       "      <td>-2.60e-01</td>\n",
       "      <td>0.45</td>\n",
       "      <td>0.31</td>\n",
       "      <td>-0.27</td>\n",
       "      <td>-7.49e-02</td>\n",
       "      <td>0.04</td>\n",
       "      <td>-0.70</td>\n",
       "      <td>-1.20e-01</td>\n",
       "      <td>8.11e-01</td>\n",
       "    </tr>\n",
       "    <tr>\n",
       "      <th>blood_meal</th>\n",
       "      <td>0.03</td>\n",
       "      <td>0.53</td>\n",
       "      <td>-0.32</td>\n",
       "      <td>0.68</td>\n",
       "      <td>2.44e-01</td>\n",
       "      <td>1.00</td>\n",
       "      <td>-1.32e-01</td>\n",
       "      <td>-8.48e-02</td>\n",
       "      <td>0.04</td>\n",
       "      <td>0.15</td>\n",
       "      <td>...</td>\n",
       "      <td>-0.38</td>\n",
       "      <td>5.81e-01</td>\n",
       "      <td>0.38</td>\n",
       "      <td>0.47</td>\n",
       "      <td>0.08</td>\n",
       "      <td>-2.81e-01</td>\n",
       "      <td>0.88</td>\n",
       "      <td>-0.16</td>\n",
       "      <td>4.48e-02</td>\n",
       "      <td>-2.04e-02</td>\n",
       "    </tr>\n",
       "    <tr>\n",
       "      <th>Lipid</th>\n",
       "      <td>0.07</td>\n",
       "      <td>-0.11</td>\n",
       "      <td>0.88</td>\n",
       "      <td>-0.14</td>\n",
       "      <td>-2.88e-01</td>\n",
       "      <td>-0.13</td>\n",
       "      <td>1.00e+00</td>\n",
       "      <td>-4.10e-01</td>\n",
       "      <td>-0.40</td>\n",
       "      <td>-0.78</td>\n",
       "      <td>...</td>\n",
       "      <td>0.22</td>\n",
       "      <td>-1.18e-01</td>\n",
       "      <td>-0.78</td>\n",
       "      <td>-0.83</td>\n",
       "      <td>-0.60</td>\n",
       "      <td>1.68e-03</td>\n",
       "      <td>0.12</td>\n",
       "      <td>-0.04</td>\n",
       "      <td>3.11e-01</td>\n",
       "      <td>-1.44e-01</td>\n",
       "    </tr>\n",
       "    <tr>\n",
       "      <th>maggot_meal</th>\n",
       "      <td>-0.22</td>\n",
       "      <td>-0.21</td>\n",
       "      <td>-0.24</td>\n",
       "      <td>-0.27</td>\n",
       "      <td>-8.36e-03</td>\n",
       "      <td>-0.08</td>\n",
       "      <td>-4.10e-01</td>\n",
       "      <td>1.00e+00</td>\n",
       "      <td>0.64</td>\n",
       "      <td>0.29</td>\n",
       "      <td>...</td>\n",
       "      <td>-0.18</td>\n",
       "      <td>-1.88e-01</td>\n",
       "      <td>0.02</td>\n",
       "      <td>0.07</td>\n",
       "      <td>0.70</td>\n",
       "      <td>2.80e-01</td>\n",
       "      <td>-0.18</td>\n",
       "      <td>0.38</td>\n",
       "      <td>-1.61e-01</td>\n",
       "      <td>-1.85e-01</td>\n",
       "    </tr>\n",
       "    <tr>\n",
       "      <th>wheatbran</th>\n",
       "      <td>-0.06</td>\n",
       "      <td>-0.28</td>\n",
       "      <td>-0.31</td>\n",
       "      <td>-0.35</td>\n",
       "      <td>1.08e-01</td>\n",
       "      <td>0.04</td>\n",
       "      <td>-3.99e-01</td>\n",
       "      <td>6.39e-01</td>\n",
       "      <td>1.00</td>\n",
       "      <td>0.42</td>\n",
       "      <td>...</td>\n",
       "      <td>-0.34</td>\n",
       "      <td>-3.67e-01</td>\n",
       "      <td>0.27</td>\n",
       "      <td>0.09</td>\n",
       "      <td>0.81</td>\n",
       "      <td>2.28e-01</td>\n",
       "      <td>-0.14</td>\n",
       "      <td>0.50</td>\n",
       "      <td>-1.95e-01</td>\n",
       "      <td>-1.12e-01</td>\n",
       "    </tr>\n",
       "    <tr>\n",
       "      <th>yellow_maize</th>\n",
       "      <td>-0.07</td>\n",
       "      <td>0.16</td>\n",
       "      <td>-0.61</td>\n",
       "      <td>0.20</td>\n",
       "      <td>1.11e-01</td>\n",
       "      <td>0.15</td>\n",
       "      <td>-7.77e-01</td>\n",
       "      <td>2.90e-01</td>\n",
       "      <td>0.42</td>\n",
       "      <td>1.00</td>\n",
       "      <td>...</td>\n",
       "      <td>-0.50</td>\n",
       "      <td>2.82e-01</td>\n",
       "      <td>0.69</td>\n",
       "      <td>0.71</td>\n",
       "      <td>0.62</td>\n",
       "      <td>-1.88e-01</td>\n",
       "      <td>-0.13</td>\n",
       "      <td>0.22</td>\n",
       "      <td>-4.33e-01</td>\n",
       "      <td>-1.00e-01</td>\n",
       "    </tr>\n",
       "    <tr>\n",
       "      <th>groundnut_cake</th>\n",
       "      <td>-0.20</td>\n",
       "      <td>-0.26</td>\n",
       "      <td>-0.41</td>\n",
       "      <td>-0.33</td>\n",
       "      <td>2.17e-01</td>\n",
       "      <td>-0.52</td>\n",
       "      <td>-6.69e-01</td>\n",
       "      <td>1.20e-01</td>\n",
       "      <td>0.20</td>\n",
       "      <td>0.55</td>\n",
       "      <td>...</td>\n",
       "      <td>0.16</td>\n",
       "      <td>-2.90e-01</td>\n",
       "      <td>0.52</td>\n",
       "      <td>0.45</td>\n",
       "      <td>0.28</td>\n",
       "      <td>-7.84e-02</td>\n",
       "      <td>-0.74</td>\n",
       "      <td>0.03</td>\n",
       "      <td>-4.69e-01</td>\n",
       "      <td>2.05e-01</td>\n",
       "    </tr>\n",
       "    <tr>\n",
       "      <th>CMC</th>\n",
       "      <td>0.19</td>\n",
       "      <td>-0.23</td>\n",
       "      <td>0.79</td>\n",
       "      <td>-0.30</td>\n",
       "      <td>-3.96e-01</td>\n",
       "      <td>-0.41</td>\n",
       "      <td>9.11e-01</td>\n",
       "      <td>-3.00e-01</td>\n",
       "      <td>-0.40</td>\n",
       "      <td>-0.78</td>\n",
       "      <td>...</td>\n",
       "      <td>0.30</td>\n",
       "      <td>-2.57e-01</td>\n",
       "      <td>-0.88</td>\n",
       "      <td>-0.94</td>\n",
       "      <td>-0.55</td>\n",
       "      <td>2.74e-01</td>\n",
       "      <td>-0.06</td>\n",
       "      <td>0.03</td>\n",
       "      <td>4.77e-01</td>\n",
       "      <td>-9.76e-02</td>\n",
       "    </tr>\n",
       "    <tr>\n",
       "      <th>Vitamin</th>\n",
       "      <td>0.19</td>\n",
       "      <td>-0.26</td>\n",
       "      <td>0.78</td>\n",
       "      <td>-0.33</td>\n",
       "      <td>-4.24e-01</td>\n",
       "      <td>-0.50</td>\n",
       "      <td>8.80e-01</td>\n",
       "      <td>-2.85e-01</td>\n",
       "      <td>-0.40</td>\n",
       "      <td>-0.75</td>\n",
       "      <td>...</td>\n",
       "      <td>0.31</td>\n",
       "      <td>-2.89e-01</td>\n",
       "      <td>-0.88</td>\n",
       "      <td>-0.94</td>\n",
       "      <td>-0.53</td>\n",
       "      <td>2.83e-01</td>\n",
       "      <td>-0.15</td>\n",
       "      <td>0.05</td>\n",
       "      <td>4.47e-01</td>\n",
       "      <td>-1.07e-01</td>\n",
       "    </tr>\n",
       "    <tr>\n",
       "      <th>Chromic</th>\n",
       "      <td>0.12</td>\n",
       "      <td>-0.28</td>\n",
       "      <td>0.75</td>\n",
       "      <td>-0.36</td>\n",
       "      <td>-1.82e-01</td>\n",
       "      <td>-0.23</td>\n",
       "      <td>9.22e-01</td>\n",
       "      <td>-2.50e-01</td>\n",
       "      <td>-0.27</td>\n",
       "      <td>-0.81</td>\n",
       "      <td>...</td>\n",
       "      <td>0.35</td>\n",
       "      <td>-3.15e-01</td>\n",
       "      <td>-0.83</td>\n",
       "      <td>-0.95</td>\n",
       "      <td>-0.56</td>\n",
       "      <td>2.97e-01</td>\n",
       "      <td>0.08</td>\n",
       "      <td>-0.06</td>\n",
       "      <td>5.15e-01</td>\n",
       "      <td>3.98e-02</td>\n",
       "    </tr>\n",
       "    <tr>\n",
       "      <th>Minerals</th>\n",
       "      <td>0.20</td>\n",
       "      <td>-0.32</td>\n",
       "      <td>0.75</td>\n",
       "      <td>-0.41</td>\n",
       "      <td>-5.25e-01</td>\n",
       "      <td>-0.59</td>\n",
       "      <td>7.98e-01</td>\n",
       "      <td>-1.11e-01</td>\n",
       "      <td>-0.21</td>\n",
       "      <td>-0.66</td>\n",
       "      <td>...</td>\n",
       "      <td>0.20</td>\n",
       "      <td>-3.66e-01</td>\n",
       "      <td>-0.87</td>\n",
       "      <td>-0.96</td>\n",
       "      <td>-0.32</td>\n",
       "      <td>3.52e-01</td>\n",
       "      <td>-0.25</td>\n",
       "      <td>0.25</td>\n",
       "      <td>3.97e-01</td>\n",
       "      <td>-2.25e-01</td>\n",
       "    </tr>\n",
       "    <tr>\n",
       "      <th>Calcium</th>\n",
       "      <td>-0.09</td>\n",
       "      <td>0.49</td>\n",
       "      <td>-0.45</td>\n",
       "      <td>0.63</td>\n",
       "      <td>4.92e-01</td>\n",
       "      <td>0.90</td>\n",
       "      <td>-3.13e-01</td>\n",
       "      <td>-2.26e-01</td>\n",
       "      <td>-0.15</td>\n",
       "      <td>0.25</td>\n",
       "      <td>...</td>\n",
       "      <td>-0.14</td>\n",
       "      <td>5.67e-01</td>\n",
       "      <td>0.58</td>\n",
       "      <td>0.69</td>\n",
       "      <td>-0.10</td>\n",
       "      <td>-3.94e-01</td>\n",
       "      <td>0.71</td>\n",
       "      <td>-0.46</td>\n",
       "      <td>-8.70e-02</td>\n",
       "      <td>2.43e-01</td>\n",
       "    </tr>\n",
       "    <tr>\n",
       "      <th>Cellulose</th>\n",
       "      <td>0.07</td>\n",
       "      <td>-0.23</td>\n",
       "      <td>0.90</td>\n",
       "      <td>-0.29</td>\n",
       "      <td>-3.87e-01</td>\n",
       "      <td>-0.40</td>\n",
       "      <td>9.45e-01</td>\n",
       "      <td>-2.94e-01</td>\n",
       "      <td>-0.39</td>\n",
       "      <td>-0.76</td>\n",
       "      <td>...</td>\n",
       "      <td>0.29</td>\n",
       "      <td>-2.52e-01</td>\n",
       "      <td>-0.86</td>\n",
       "      <td>-0.92</td>\n",
       "      <td>-0.54</td>\n",
       "      <td>1.16e-01</td>\n",
       "      <td>-0.11</td>\n",
       "      <td>0.06</td>\n",
       "      <td>3.13e-01</td>\n",
       "      <td>-1.77e-01</td>\n",
       "    </tr>\n",
       "    <tr>\n",
       "      <th>Tapioca</th>\n",
       "      <td>0.19</td>\n",
       "      <td>-0.22</td>\n",
       "      <td>0.79</td>\n",
       "      <td>-0.28</td>\n",
       "      <td>-4.03e-01</td>\n",
       "      <td>-0.40</td>\n",
       "      <td>9.16e-01</td>\n",
       "      <td>-3.06e-01</td>\n",
       "      <td>-0.41</td>\n",
       "      <td>-0.78</td>\n",
       "      <td>...</td>\n",
       "      <td>0.29</td>\n",
       "      <td>-2.44e-01</td>\n",
       "      <td>-0.88</td>\n",
       "      <td>-0.94</td>\n",
       "      <td>-0.55</td>\n",
       "      <td>2.61e-01</td>\n",
       "      <td>-0.05</td>\n",
       "      <td>0.03</td>\n",
       "      <td>4.72e-01</td>\n",
       "      <td>-1.09e-01</td>\n",
       "    </tr>\n",
       "    <tr>\n",
       "      <th>protein</th>\n",
       "      <td>0.06</td>\n",
       "      <td>-0.40</td>\n",
       "      <td>0.05</td>\n",
       "      <td>-0.44</td>\n",
       "      <td>-2.54e-01</td>\n",
       "      <td>-0.28</td>\n",
       "      <td>-8.44e-02</td>\n",
       "      <td>6.45e-01</td>\n",
       "      <td>0.80</td>\n",
       "      <td>0.04</td>\n",
       "      <td>...</td>\n",
       "      <td>-0.27</td>\n",
       "      <td>-5.07e-01</td>\n",
       "      <td>-0.15</td>\n",
       "      <td>-0.30</td>\n",
       "      <td>0.69</td>\n",
       "      <td>3.19e-01</td>\n",
       "      <td>-0.32</td>\n",
       "      <td>0.67</td>\n",
       "      <td>-9.62e-02</td>\n",
       "      <td>-3.47e-01</td>\n",
       "    </tr>\n",
       "    <tr>\n",
       "      <th>fat</th>\n",
       "      <td>0.13</td>\n",
       "      <td>-0.03</td>\n",
       "      <td>0.67</td>\n",
       "      <td>-0.08</td>\n",
       "      <td>-1.53e-01</td>\n",
       "      <td>0.07</td>\n",
       "      <td>9.17e-01</td>\n",
       "      <td>-3.69e-01</td>\n",
       "      <td>-0.37</td>\n",
       "      <td>-0.85</td>\n",
       "      <td>...</td>\n",
       "      <td>0.27</td>\n",
       "      <td>-1.19e-01</td>\n",
       "      <td>-0.73</td>\n",
       "      <td>-0.79</td>\n",
       "      <td>-0.61</td>\n",
       "      <td>1.52e-01</td>\n",
       "      <td>0.36</td>\n",
       "      <td>-0.14</td>\n",
       "      <td>5.17e-01</td>\n",
       "      <td>7.18e-03</td>\n",
       "    </tr>\n",
       "    <tr>\n",
       "      <th>ash</th>\n",
       "      <td>0.16</td>\n",
       "      <td>-0.26</td>\n",
       "      <td>0.80</td>\n",
       "      <td>-0.34</td>\n",
       "      <td>-3.83e-01</td>\n",
       "      <td>-0.47</td>\n",
       "      <td>9.01e-01</td>\n",
       "      <td>-3.02e-01</td>\n",
       "      <td>-0.40</td>\n",
       "      <td>-0.77</td>\n",
       "      <td>...</td>\n",
       "      <td>0.33</td>\n",
       "      <td>-2.96e-01</td>\n",
       "      <td>-0.88</td>\n",
       "      <td>-0.94</td>\n",
       "      <td>-0.56</td>\n",
       "      <td>2.61e-01</td>\n",
       "      <td>-0.13</td>\n",
       "      <td>0.02</td>\n",
       "      <td>4.38e-01</td>\n",
       "      <td>-8.28e-02</td>\n",
       "    </tr>\n",
       "    <tr>\n",
       "      <th>crude_fibre</th>\n",
       "      <td>-0.36</td>\n",
       "      <td>-0.44</td>\n",
       "      <td>0.23</td>\n",
       "      <td>-0.60</td>\n",
       "      <td>5.73e-01</td>\n",
       "      <td>-0.38</td>\n",
       "      <td>2.19e-01</td>\n",
       "      <td>-1.81e-01</td>\n",
       "      <td>-0.34</td>\n",
       "      <td>-0.50</td>\n",
       "      <td>...</td>\n",
       "      <td>1.00</td>\n",
       "      <td>-5.29e-01</td>\n",
       "      <td>-0.19</td>\n",
       "      <td>-0.30</td>\n",
       "      <td>-0.66</td>\n",
       "      <td>1.14e-01</td>\n",
       "      <td>-0.33</td>\n",
       "      <td>-0.64</td>\n",
       "      <td>9.99e-02</td>\n",
       "      <td>6.84e-01</td>\n",
       "    </tr>\n",
       "    <tr>\n",
       "      <th>NFE</th>\n",
       "      <td>0.34</td>\n",
       "      <td>0.51</td>\n",
       "      <td>-0.20</td>\n",
       "      <td>0.86</td>\n",
       "      <td>-2.60e-01</td>\n",
       "      <td>0.58</td>\n",
       "      <td>-1.18e-01</td>\n",
       "      <td>-1.88e-01</td>\n",
       "      <td>-0.37</td>\n",
       "      <td>0.28</td>\n",
       "      <td>...</td>\n",
       "      <td>-0.53</td>\n",
       "      <td>1.00e+00</td>\n",
       "      <td>0.13</td>\n",
       "      <td>0.47</td>\n",
       "      <td>0.01</td>\n",
       "      <td>-3.29e-01</td>\n",
       "      <td>0.58</td>\n",
       "      <td>-0.02</td>\n",
       "      <td>-2.33e-03</td>\n",
       "      <td>-3.27e-01</td>\n",
       "    </tr>\n",
       "    <tr>\n",
       "      <th>moisture</th>\n",
       "      <td>-0.19</td>\n",
       "      <td>0.22</td>\n",
       "      <td>-0.68</td>\n",
       "      <td>0.26</td>\n",
       "      <td>4.51e-01</td>\n",
       "      <td>0.38</td>\n",
       "      <td>-7.85e-01</td>\n",
       "      <td>2.12e-02</td>\n",
       "      <td>0.27</td>\n",
       "      <td>0.69</td>\n",
       "      <td>...</td>\n",
       "      <td>-0.19</td>\n",
       "      <td>1.30e-01</td>\n",
       "      <td>1.00</td>\n",
       "      <td>0.86</td>\n",
       "      <td>0.36</td>\n",
       "      <td>-3.73e-01</td>\n",
       "      <td>0.04</td>\n",
       "      <td>-0.09</td>\n",
       "      <td>-4.48e-01</td>\n",
       "      <td>1.82e-01</td>\n",
       "    </tr>\n",
       "    <tr>\n",
       "      <th>culture_period</th>\n",
       "      <td>-0.13</td>\n",
       "      <td>0.41</td>\n",
       "      <td>-0.74</td>\n",
       "      <td>0.52</td>\n",
       "      <td>3.08e-01</td>\n",
       "      <td>0.47</td>\n",
       "      <td>-8.33e-01</td>\n",
       "      <td>7.03e-02</td>\n",
       "      <td>0.09</td>\n",
       "      <td>0.71</td>\n",
       "      <td>...</td>\n",
       "      <td>-0.30</td>\n",
       "      <td>4.66e-01</td>\n",
       "      <td>0.86</td>\n",
       "      <td>1.00</td>\n",
       "      <td>0.36</td>\n",
       "      <td>-3.93e-01</td>\n",
       "      <td>0.16</td>\n",
       "      <td>-0.14</td>\n",
       "      <td>-4.42e-01</td>\n",
       "      <td>6.44e-02</td>\n",
       "    </tr>\n",
       "    <tr>\n",
       "      <th>fish_weight</th>\n",
       "      <td>0.05</td>\n",
       "      <td>0.06</td>\n",
       "      <td>-0.43</td>\n",
       "      <td>0.08</td>\n",
       "      <td>-2.66e-01</td>\n",
       "      <td>0.08</td>\n",
       "      <td>-6.00e-01</td>\n",
       "      <td>6.99e-01</td>\n",
       "      <td>0.81</td>\n",
       "      <td>0.62</td>\n",
       "      <td>...</td>\n",
       "      <td>-0.66</td>\n",
       "      <td>1.28e-02</td>\n",
       "      <td>0.36</td>\n",
       "      <td>0.36</td>\n",
       "      <td>1.00</td>\n",
       "      <td>8.15e-02</td>\n",
       "      <td>-0.10</td>\n",
       "      <td>0.72</td>\n",
       "      <td>-3.06e-01</td>\n",
       "      <td>-4.78e-01</td>\n",
       "    </tr>\n",
       "    <tr>\n",
       "      <th>WG</th>\n",
       "      <td>0.40</td>\n",
       "      <td>-0.31</td>\n",
       "      <td>-0.24</td>\n",
       "      <td>-0.39</td>\n",
       "      <td>-7.49e-02</td>\n",
       "      <td>-0.28</td>\n",
       "      <td>1.68e-03</td>\n",
       "      <td>2.80e-01</td>\n",
       "      <td>0.23</td>\n",
       "      <td>-0.19</td>\n",
       "      <td>...</td>\n",
       "      <td>0.11</td>\n",
       "      <td>-3.29e-01</td>\n",
       "      <td>-0.37</td>\n",
       "      <td>-0.39</td>\n",
       "      <td>0.08</td>\n",
       "      <td>1.00e+00</td>\n",
       "      <td>0.04</td>\n",
       "      <td>-0.07</td>\n",
       "      <td>7.91e-01</td>\n",
       "      <td>3.73e-01</td>\n",
       "    </tr>\n",
       "    <tr>\n",
       "      <th>PER</th>\n",
       "      <td>0.29</td>\n",
       "      <td>0.48</td>\n",
       "      <td>-0.19</td>\n",
       "      <td>0.66</td>\n",
       "      <td>3.59e-02</td>\n",
       "      <td>0.88</td>\n",
       "      <td>1.24e-01</td>\n",
       "      <td>-1.83e-01</td>\n",
       "      <td>-0.14</td>\n",
       "      <td>-0.13</td>\n",
       "      <td>...</td>\n",
       "      <td>-0.33</td>\n",
       "      <td>5.76e-01</td>\n",
       "      <td>0.04</td>\n",
       "      <td>0.16</td>\n",
       "      <td>-0.10</td>\n",
       "      <td>3.84e-02</td>\n",
       "      <td>1.00</td>\n",
       "      <td>-0.20</td>\n",
       "      <td>4.66e-01</td>\n",
       "      <td>1.57e-02</td>\n",
       "    </tr>\n",
       "    <tr>\n",
       "      <th>FCR</th>\n",
       "      <td>0.16</td>\n",
       "      <td>0.08</td>\n",
       "      <td>0.12</td>\n",
       "      <td>0.08</td>\n",
       "      <td>-7.00e-01</td>\n",
       "      <td>-0.16</td>\n",
       "      <td>-4.26e-02</td>\n",
       "      <td>3.80e-01</td>\n",
       "      <td>0.50</td>\n",
       "      <td>0.22</td>\n",
       "      <td>...</td>\n",
       "      <td>-0.64</td>\n",
       "      <td>-2.13e-02</td>\n",
       "      <td>-0.09</td>\n",
       "      <td>-0.14</td>\n",
       "      <td>0.72</td>\n",
       "      <td>-7.39e-02</td>\n",
       "      <td>-0.20</td>\n",
       "      <td>1.00</td>\n",
       "      <td>-2.52e-01</td>\n",
       "      <td>-8.34e-01</td>\n",
       "    </tr>\n",
       "    <tr>\n",
       "      <th>SGR</th>\n",
       "      <td>0.57</td>\n",
       "      <td>-0.06</td>\n",
       "      <td>-0.09</td>\n",
       "      <td>-0.03</td>\n",
       "      <td>-1.20e-01</td>\n",
       "      <td>0.04</td>\n",
       "      <td>3.11e-01</td>\n",
       "      <td>-1.61e-01</td>\n",
       "      <td>-0.19</td>\n",
       "      <td>-0.43</td>\n",
       "      <td>...</td>\n",
       "      <td>0.10</td>\n",
       "      <td>-2.33e-03</td>\n",
       "      <td>-0.45</td>\n",
       "      <td>-0.44</td>\n",
       "      <td>-0.31</td>\n",
       "      <td>7.91e-01</td>\n",
       "      <td>0.47</td>\n",
       "      <td>-0.25</td>\n",
       "      <td>1.00e+00</td>\n",
       "      <td>3.55e-01</td>\n",
       "    </tr>\n",
       "    <tr>\n",
       "      <th>FCR_churn</th>\n",
       "      <td>-0.12</td>\n",
       "      <td>-0.34</td>\n",
       "      <td>-0.32</td>\n",
       "      <td>-0.43</td>\n",
       "      <td>8.11e-01</td>\n",
       "      <td>-0.02</td>\n",
       "      <td>-1.44e-01</td>\n",
       "      <td>-1.85e-01</td>\n",
       "      <td>-0.11</td>\n",
       "      <td>-0.10</td>\n",
       "      <td>...</td>\n",
       "      <td>0.68</td>\n",
       "      <td>-3.27e-01</td>\n",
       "      <td>0.18</td>\n",
       "      <td>0.06</td>\n",
       "      <td>-0.48</td>\n",
       "      <td>3.73e-01</td>\n",
       "      <td>0.02</td>\n",
       "      <td>-0.83</td>\n",
       "      <td>3.55e-01</td>\n",
       "      <td>1.00e+00</td>\n",
       "    </tr>\n",
       "  </tbody>\n",
       "</table>\n",
       "<p>31 rows × 31 columns</p>\n",
       "</div>"
      ],
      "text/plain": [
       "                Fish_meal  rockyprawn  Feather Meal  brewers_waste  soybean_mel  blood_meal  \\\n",
       "Fish_meal            1.00       -0.18         -0.21           0.25    -4.31e-01        0.03   \n",
       "rockyprawn          -0.18        1.00         -0.18           0.78    -2.75e-01        0.53   \n",
       "Feather Meal        -0.21       -0.18          1.00          -0.23    -3.11e-01       -0.32   \n",
       "brewers_waste        0.25        0.78         -0.23           1.00    -3.52e-01        0.68   \n",
       "soybean_mel         -0.43       -0.27         -0.31          -0.35     1.00e+00        0.24   \n",
       "blood_meal           0.03        0.53         -0.32           0.68     2.44e-01        1.00   \n",
       "Lipid                0.07       -0.11          0.88          -0.14    -2.88e-01       -0.13   \n",
       "maggot_meal         -0.22       -0.21         -0.24          -0.27    -8.36e-03       -0.08   \n",
       "wheatbran           -0.06       -0.28         -0.31          -0.35     1.08e-01        0.04   \n",
       "yellow_maize        -0.07        0.16         -0.61           0.20     1.11e-01        0.15   \n",
       "groundnut_cake      -0.20       -0.26         -0.41          -0.33     2.17e-01       -0.52   \n",
       "CMC                  0.19       -0.23          0.79          -0.30    -3.96e-01       -0.41   \n",
       "Vitamin              0.19       -0.26          0.78          -0.33    -4.24e-01       -0.50   \n",
       "Chromic              0.12       -0.28          0.75          -0.36    -1.82e-01       -0.23   \n",
       "Minerals             0.20       -0.32          0.75          -0.41    -5.25e-01       -0.59   \n",
       "Calcium             -0.09        0.49         -0.45           0.63     4.92e-01        0.90   \n",
       "Cellulose            0.07       -0.23          0.90          -0.29    -3.87e-01       -0.40   \n",
       "Tapioca              0.19       -0.22          0.79          -0.28    -4.03e-01       -0.40   \n",
       "protein              0.06       -0.40          0.05          -0.44    -2.54e-01       -0.28   \n",
       "fat                  0.13       -0.03          0.67          -0.08    -1.53e-01        0.07   \n",
       "ash                  0.16       -0.26          0.80          -0.34    -3.83e-01       -0.47   \n",
       "crude_fibre         -0.36       -0.44          0.23          -0.60     5.73e-01       -0.38   \n",
       "NFE                  0.34        0.51         -0.20           0.86    -2.60e-01        0.58   \n",
       "moisture            -0.19        0.22         -0.68           0.26     4.51e-01        0.38   \n",
       "culture_period      -0.13        0.41         -0.74           0.52     3.08e-01        0.47   \n",
       "fish_weight          0.05        0.06         -0.43           0.08    -2.66e-01        0.08   \n",
       "WG                   0.40       -0.31         -0.24          -0.39    -7.49e-02       -0.28   \n",
       "PER                  0.29        0.48         -0.19           0.66     3.59e-02        0.88   \n",
       "FCR                  0.16        0.08          0.12           0.08    -7.00e-01       -0.16   \n",
       "SGR                  0.57       -0.06         -0.09          -0.03    -1.20e-01        0.04   \n",
       "FCR_churn           -0.12       -0.34         -0.32          -0.43     8.11e-01       -0.02   \n",
       "\n",
       "                   Lipid  maggot_meal  wheatbran  yellow_maize  ...  crude_fibre       NFE  \\\n",
       "Fish_meal       6.56e-02    -2.22e-01      -0.06         -0.07  ...        -0.36  3.35e-01   \n",
       "rockyprawn     -1.09e-01    -2.08e-01      -0.28          0.16  ...        -0.44  5.11e-01   \n",
       "Feather Meal    8.77e-01    -2.36e-01      -0.31         -0.61  ...         0.23 -2.02e-01   \n",
       "brewers_waste  -1.39e-01    -2.67e-01      -0.35          0.20  ...        -0.60  8.61e-01   \n",
       "soybean_mel    -2.88e-01    -8.36e-03       0.11          0.11  ...         0.57 -2.60e-01   \n",
       "blood_meal     -1.32e-01    -8.48e-02       0.04          0.15  ...        -0.38  5.81e-01   \n",
       "Lipid           1.00e+00    -4.10e-01      -0.40         -0.78  ...         0.22 -1.18e-01   \n",
       "maggot_meal    -4.10e-01     1.00e+00       0.64          0.29  ...        -0.18 -1.88e-01   \n",
       "wheatbran      -3.99e-01     6.39e-01       1.00          0.42  ...        -0.34 -3.67e-01   \n",
       "yellow_maize   -7.77e-01     2.90e-01       0.42          1.00  ...        -0.50  2.82e-01   \n",
       "groundnut_cake -6.69e-01     1.20e-01       0.20          0.55  ...         0.16 -2.90e-01   \n",
       "CMC             9.11e-01    -3.00e-01      -0.40         -0.78  ...         0.30 -2.57e-01   \n",
       "Vitamin         8.80e-01    -2.85e-01      -0.40         -0.75  ...         0.31 -2.89e-01   \n",
       "Chromic         9.22e-01    -2.50e-01      -0.27         -0.81  ...         0.35 -3.15e-01   \n",
       "Minerals        7.98e-01    -1.11e-01      -0.21         -0.66  ...         0.20 -3.66e-01   \n",
       "Calcium        -3.13e-01    -2.26e-01      -0.15          0.25  ...        -0.14  5.67e-01   \n",
       "Cellulose       9.45e-01    -2.94e-01      -0.39         -0.76  ...         0.29 -2.52e-01   \n",
       "Tapioca         9.16e-01    -3.06e-01      -0.41         -0.78  ...         0.29 -2.44e-01   \n",
       "protein        -8.44e-02     6.45e-01       0.80          0.04  ...        -0.27 -5.07e-01   \n",
       "fat             9.17e-01    -3.69e-01      -0.37         -0.85  ...         0.27 -1.19e-01   \n",
       "ash             9.01e-01    -3.02e-01      -0.40         -0.77  ...         0.33 -2.96e-01   \n",
       "crude_fibre     2.19e-01    -1.81e-01      -0.34         -0.50  ...         1.00 -5.29e-01   \n",
       "NFE            -1.18e-01    -1.88e-01      -0.37          0.28  ...        -0.53  1.00e+00   \n",
       "moisture       -7.85e-01     2.12e-02       0.27          0.69  ...        -0.19  1.30e-01   \n",
       "culture_period -8.33e-01     7.03e-02       0.09          0.71  ...        -0.30  4.66e-01   \n",
       "fish_weight    -6.00e-01     6.99e-01       0.81          0.62  ...        -0.66  1.28e-02   \n",
       "WG              1.68e-03     2.80e-01       0.23         -0.19  ...         0.11 -3.29e-01   \n",
       "PER             1.24e-01    -1.83e-01      -0.14         -0.13  ...        -0.33  5.76e-01   \n",
       "FCR            -4.26e-02     3.80e-01       0.50          0.22  ...        -0.64 -2.13e-02   \n",
       "SGR             3.11e-01    -1.61e-01      -0.19         -0.43  ...         0.10 -2.33e-03   \n",
       "FCR_churn      -1.44e-01    -1.85e-01      -0.11         -0.10  ...         0.68 -3.27e-01   \n",
       "\n",
       "                moisture  culture_period  fish_weight        WG   PER   FCR       SGR  FCR_churn  \n",
       "Fish_meal          -0.19           -0.13         0.05  4.02e-01  0.29  0.16  5.74e-01  -1.15e-01  \n",
       "rockyprawn          0.22            0.41         0.06 -3.08e-01  0.48  0.08 -6.31e-02  -3.39e-01  \n",
       "Feather Meal       -0.68           -0.74        -0.43 -2.41e-01 -0.19  0.12 -8.77e-02  -3.22e-01  \n",
       "brewers_waste       0.26            0.52         0.08 -3.93e-01  0.66  0.08 -2.81e-02  -4.34e-01  \n",
       "soybean_mel         0.45            0.31        -0.27 -7.49e-02  0.04 -0.70 -1.20e-01   8.11e-01  \n",
       "blood_meal          0.38            0.47         0.08 -2.81e-01  0.88 -0.16  4.48e-02  -2.04e-02  \n",
       "Lipid              -0.78           -0.83        -0.60  1.68e-03  0.12 -0.04  3.11e-01  -1.44e-01  \n",
       "maggot_meal         0.02            0.07         0.70  2.80e-01 -0.18  0.38 -1.61e-01  -1.85e-01  \n",
       "wheatbran           0.27            0.09         0.81  2.28e-01 -0.14  0.50 -1.95e-01  -1.12e-01  \n",
       "yellow_maize        0.69            0.71         0.62 -1.88e-01 -0.13  0.22 -4.33e-01  -1.00e-01  \n",
       "groundnut_cake      0.52            0.45         0.28 -7.84e-02 -0.74  0.03 -4.69e-01   2.05e-01  \n",
       "CMC                -0.88           -0.94        -0.55  2.74e-01 -0.06  0.03  4.77e-01  -9.76e-02  \n",
       "Vitamin            -0.88           -0.94        -0.53  2.83e-01 -0.15  0.05  4.47e-01  -1.07e-01  \n",
       "Chromic            -0.83           -0.95        -0.56  2.97e-01  0.08 -0.06  5.15e-01   3.98e-02  \n",
       "Minerals           -0.87           -0.96        -0.32  3.52e-01 -0.25  0.25  3.97e-01  -2.25e-01  \n",
       "Calcium             0.58            0.69        -0.10 -3.94e-01  0.71 -0.46 -8.70e-02   2.43e-01  \n",
       "Cellulose          -0.86           -0.92        -0.54  1.16e-01 -0.11  0.06  3.13e-01  -1.77e-01  \n",
       "Tapioca            -0.88           -0.94        -0.55  2.61e-01 -0.05  0.03  4.72e-01  -1.09e-01  \n",
       "protein            -0.15           -0.30         0.69  3.19e-01 -0.32  0.67 -9.62e-02  -3.47e-01  \n",
       "fat                -0.73           -0.79        -0.61  1.52e-01  0.36 -0.14  5.17e-01   7.18e-03  \n",
       "ash                -0.88           -0.94        -0.56  2.61e-01 -0.13  0.02  4.38e-01  -8.28e-02  \n",
       "crude_fibre        -0.19           -0.30        -0.66  1.14e-01 -0.33 -0.64  9.99e-02   6.84e-01  \n",
       "NFE                 0.13            0.47         0.01 -3.29e-01  0.58 -0.02 -2.33e-03  -3.27e-01  \n",
       "moisture            1.00            0.86         0.36 -3.73e-01  0.04 -0.09 -4.48e-01   1.82e-01  \n",
       "culture_period      0.86            1.00         0.36 -3.93e-01  0.16 -0.14 -4.42e-01   6.44e-02  \n",
       "fish_weight         0.36            0.36         1.00  8.15e-02 -0.10  0.72 -3.06e-01  -4.78e-01  \n",
       "WG                 -0.37           -0.39         0.08  1.00e+00  0.04 -0.07  7.91e-01   3.73e-01  \n",
       "PER                 0.04            0.16        -0.10  3.84e-02  1.00 -0.20  4.66e-01   1.57e-02  \n",
       "FCR                -0.09           -0.14         0.72 -7.39e-02 -0.20  1.00 -2.52e-01  -8.34e-01  \n",
       "SGR                -0.45           -0.44        -0.31  7.91e-01  0.47 -0.25  1.00e+00   3.55e-01  \n",
       "FCR_churn           0.18            0.06        -0.48  3.73e-01  0.02 -0.83  3.55e-01   1.00e+00  \n",
       "\n",
       "[31 rows x 31 columns]"
      ]
     },
     "execution_count": 61,
     "metadata": {},
     "output_type": "execute_result"
    }
   ],
   "source": [
    "corelation= df.corr()\n",
    "corelation"
   ]
  },
  {
   "cell_type": "code",
   "execution_count": 77,
   "metadata": {},
   "outputs": [
    {
     "data": {
      "image/png": "[encoded data removed]",
      "text/plain": [
       "<Figure size 432x288 with 2 Axes>"
      ]
     },
     "metadata": {
      "needs_background": "light"
     },
     "output_type": "display_data"
    }
   ],
   "source": [
    "fig= pyplot.figure()\n",
    "ax= fig.add_subplot(111)\n",
    "cax= ax.matshow(corelation, vmin=-1, vmax= 1)\n",
    "fig. colorbar(cax)\n",
    "ticks= np.arange(0, 9, 1)\n",
    "ax.set_xticks(ticks)\n",
    "ax.set_yticks(ticks)\n",
    "ax.set_xticklabels(df.columns)\n",
    "ax.set_yticklabels(df.columns)\n",
    "pyplot.show()"
   ]
  },
  {
   "cell_type": "code",
   "execution_count": 84,
   "metadata": {},
   "outputs": [
    {
     "ename": "ImportError",
     "evalue": "cannot import name 'scatter_matrix' from 'matplotlib' (C:\\ProgramData\\Anaconda3\\lib\\site-packages\\matplotlib\\__init__.py)",
     "output_type": "error",
     "traceback": [
      "\u001b[1;31m---------------------------------------------------------------------------\u001b[0m",
      "\u001b[1;31mImportError\u001b[0m                               Traceback (most recent call last)",
      "\u001b[1;32m<ipython-input-84-9250992fb285>\u001b[0m in \u001b[0;36m<module>\u001b[1;34m\u001b[0m\n\u001b[1;32m----> 1\u001b[1;33m \u001b[1;32mfrom\u001b[0m \u001b[0mmatplotlib\u001b[0m \u001b[1;32mimport\u001b[0m \u001b[0mscatter_matrix\u001b[0m\u001b[1;33m\u001b[0m\u001b[1;33m\u001b[0m\u001b[0m\n\u001b[0m",
      "\u001b[1;31mImportError\u001b[0m: cannot import name 'scatter_matrix' from 'matplotlib' (C:\\ProgramData\\Anaconda3\\lib\\site-packages\\matplotlib\\__init__.py)"
     ]
    }
   ],
   "source": []
  },
  {
   "cell_type": "code",
   "execution_count": 78,
   "metadata": {},
   "outputs": [
    {
     "ename": "NameError",
     "evalue": "name 'scatter_matrix' is not defined",
     "output_type": "error",
     "traceback": [
      "\u001b[1;31m---------------------------------------------------------------------------\u001b[0m",
      "\u001b[1;31mNameError\u001b[0m                                 Traceback (most recent call last)",
      "\u001b[1;32m<ipython-input-78-e1981126ced8>\u001b[0m in \u001b[0;36m<module>\u001b[1;34m\u001b[0m\n\u001b[1;32m----> 1\u001b[1;33m \u001b[0mscatter_matrix\u001b[0m\u001b[1;33m(\u001b[0m\u001b[0mdf\u001b[0m\u001b[1;33m)\u001b[0m\u001b[1;33m\u001b[0m\u001b[1;33m\u001b[0m\u001b[0m\n\u001b[0m\u001b[0;32m      2\u001b[0m \u001b[0mpyplot\u001b[0m\u001b[1;33m.\u001b[0m\u001b[0mshow\u001b[0m\u001b[1;33m(\u001b[0m\u001b[1;33m)\u001b[0m\u001b[1;33m\u001b[0m\u001b[1;33m\u001b[0m\u001b[0m\n",
      "\u001b[1;31mNameError\u001b[0m: name 'scatter_matrix' is not defined"
     ]
    }
   ],
   "source": [
    "scatter_matrix(df)\n",
    "pyplot.show()"
   ]
  },
  {
   "cell_type": "code",
   "execution_count": null,
   "metadata": {},
   "outputs": [],
   "source": []
  }
 ],
 "metadata": {
  "kernelspec": {
   "display_name": "Python 3",
   "language": "python",
   "name": "python3"
  },
  "language_info": {
   "codemirror_mode": {
    "name": "ipython",
    "version": 3
   },
   "file_extension": ".py",
   "mimetype": "text/x-python",
   "name": "python",
   "nbconvert_exporter": "python",
   "pygments_lexer": "ipython3",
   "version": "3.7.6"
  }
 },
 "nbformat": 4,
 "nbformat_minor": 4
}
